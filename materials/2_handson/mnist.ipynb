{
  "nbformat": 4,
  "nbformat_minor": 0,
  "metadata": {
    "colab": {
      "provenance": [],
      "authorship_tag": "ABX9TyNUaJkF+8ZhmtDIbDorx4E6",
      "include_colab_link": true
    },
    "kernelspec": {
      "name": "python3",
      "display_name": "Python 3"
    },
    "language_info": {
      "name": "python"
    },
    "accelerator": "GPU",
    "gpuClass": "standard"
  },
  "cells": [
    {
      "cell_type": "markdown",
      "metadata": {
        "id": "view-in-github",
        "colab_type": "text"
      },
      "source": [
        "<a href=\"https://colab.research.google.com/github/wangleiphy/ml4p/blob/main/materials/2_handson/mnist.ipynb\" target=\"_parent\"><img src=\"https://colab.research.google.com/assets/colab-badge.svg\" alt=\"Open In Colab\"/></a>"
      ]
    },
    {
      "cell_type": "markdown",
      "source": [
        "This notebook is reorganized from a chatgpt output. A few useful prompts \n",
        "\n",
        "- please write me a tutorial code for training a classifier of MNIST dataset, the code should be written in Jax\"\n",
        "\n",
        "\n",
        "- please write latex formula of this code \"-jnp.mean(jnp.sum(y * jax.nn.log_softmax(logits), axis=1))\"\n",
        "\n",
        "\n",
        "- replace this \"[(w - learning_rate * dw, b - learning_rate * db) for (w, b), (dw, db) in zip(params, grads)]\" with a tree_map\n",
        "\n",
        "\n"
      ],
      "metadata": {
        "id": "WUEur8M91yEL"
      }
    },
    {
      "cell_type": "code",
      "execution_count": 1,
      "metadata": {
        "colab": {
          "base_uri": "https://localhost:8080/"
        },
        "id": "9-ohuqYupLuI",
        "outputId": "d8f4c6d9-d6a8-42c6-b6f6-3a8e5309f489"
      },
      "outputs": [
        {
          "output_type": "stream",
          "name": "stdout",
          "text": [
            "Wed Mar  1 14:36:54 2023       \n",
            "+-----------------------------------------------------------------------------+\n",
            "| NVIDIA-SMI 525.85.12    Driver Version: 525.85.12    CUDA Version: 12.0     |\n",
            "|-------------------------------+----------------------+----------------------+\n",
            "| GPU  Name        Persistence-M| Bus-Id        Disp.A | Volatile Uncorr. ECC |\n",
            "| Fan  Temp  Perf  Pwr:Usage/Cap|         Memory-Usage | GPU-Util  Compute M. |\n",
            "|                               |                      |               MIG M. |\n",
            "|===============================+======================+======================|\n",
            "|   0  Tesla T4            Off  | 00000000:00:04.0 Off |                    0 |\n",
            "| N/A   46C    P0    27W /  70W |      0MiB / 15360MiB |      0%      Default |\n",
            "|                               |                      |                  N/A |\n",
            "+-------------------------------+----------------------+----------------------+\n",
            "                                                                               \n",
            "+-----------------------------------------------------------------------------+\n",
            "| Processes:                                                                  |\n",
            "|  GPU   GI   CI        PID   Type   Process name                  GPU Memory |\n",
            "|        ID   ID                                                   Usage      |\n",
            "|=============================================================================|\n",
            "|  No running processes found                                                 |\n",
            "+-----------------------------------------------------------------------------+\n"
          ]
        }
      ],
      "source": [
        "!nvidia-smi"
      ]
    },
    {
      "cell_type": "code",
      "source": [
        "import jax\n",
        "import jax.numpy as jnp\n",
        "import matplotlib.pyplot as plt"
      ],
      "metadata": {
        "id": "8H-spreTtbMM"
      },
      "execution_count": 2,
      "outputs": []
    },
    {
      "cell_type": "markdown",
      "source": [
        "# **Handwritten digits classification: the hello world of deep learning**"
      ],
      "metadata": {
        "id": "vW5G3yPz0DyV"
      }
    },
    {
      "cell_type": "markdown",
      "source": [
        "## Data"
      ],
      "metadata": {
        "id": "duZr7Il_pt6h"
      }
    },
    {
      "cell_type": "markdown",
      "source": [
        "First, let's get the MNIST data and prepare them into suitible format"
      ],
      "metadata": {
        "id": "m9A0DGJ4qTbl"
      }
    },
    {
      "cell_type": "code",
      "source": [
        "from tensorflow.keras.datasets import mnist\n",
        "\n",
        "# Load the MNIST dataset\n",
        "(x_train, y_train), (x_test, y_test) = mnist.load_data()\n",
        "\n",
        "# Flatten images into a vector\n",
        "x_train = x_train.reshape((x_train.shape[0], -1))\n",
        "x_test = x_test.reshape((x_test.shape[0], -1))\n",
        "\n",
        "# Normalize pixel values\n",
        "x_train = x_train.astype(\"float32\") / 255\n",
        "x_test = x_test.astype(\"float32\") / 255\n",
        "\n",
        "# One-hot encode labels\n",
        "num_classes = 10\n",
        "y_train = jax.nn.one_hot(y_train, num_classes)\n",
        "y_test = jax.nn.one_hot(y_test, num_classes)"
      ],
      "metadata": {
        "id": "36SxnoIDpexF",
        "colab": {
          "base_uri": "https://localhost:8080/"
        },
        "outputId": "c89fe100-89b6-40b5-b2ed-c8740edd80db"
      },
      "execution_count": 3,
      "outputs": [
        {
          "output_type": "stream",
          "name": "stdout",
          "text": [
            "Downloading data from https://storage.googleapis.com/tensorflow/tf-keras-datasets/mnist.npz\n",
            "11490434/11490434 [==============================] - 0s 0us/step\n"
          ]
        }
      ]
    },
    {
      "cell_type": "code",
      "source": [
        "x_train.shape, x_test.shape"
      ],
      "metadata": {
        "colab": {
          "base_uri": "https://localhost:8080/"
        },
        "id": "DmIaDR3JpohN",
        "outputId": "51f9bca2-7083-486c-8343-452209339561"
      },
      "execution_count": 4,
      "outputs": [
        {
          "output_type": "execute_result",
          "data": {
            "text/plain": [
              "((60000, 784), (10000, 784))"
            ]
          },
          "metadata": {},
          "execution_count": 4
        }
      ]
    },
    {
      "cell_type": "code",
      "source": [
        "x_train.min(), x_train.max()"
      ],
      "metadata": {
        "colab": {
          "base_uri": "https://localhost:8080/"
        },
        "id": "fz8k85OZ29HC",
        "outputId": "a855641c-b012-467d-a6b4-c7a9b436abaf"
      },
      "execution_count": 5,
      "outputs": [
        {
          "output_type": "execute_result",
          "data": {
            "text/plain": [
              "(0.0, 1.0)"
            ]
          },
          "metadata": {},
          "execution_count": 5
        }
      ]
    },
    {
      "cell_type": "markdown",
      "source": [
        "Let's have a look at the first few images"
      ],
      "metadata": {
        "id": "ef25SuR2rQVw"
      }
    },
    {
      "cell_type": "code",
      "source": [
        "fig, axes = plt.subplots(nrows=2, ncols=5, figsize=(10, 4),\n",
        "                         subplot_kw={'xticks': [], 'yticks': []})\n",
        "for i, ax in enumerate(axes.flat):\n",
        "    ax.imshow(x_train[i].reshape(28, 28), cmap='gray')\n",
        "plt.show()"
      ],
      "metadata": {
        "colab": {
          "base_uri": "https://localhost:8080/",
          "height": 249
        },
        "id": "tUJwJaW2ptck",
        "outputId": "34f43546-8d97-481b-c7cf-b21af74c511a"
      },
      "execution_count": 6,
      "outputs": [
        {
          "output_type": "display_data",
          "data": {
            "text/plain": [
              "<Figure size 720x288 with 10 Axes>"
            ],
            "image/png": "[encoded data removed]"
          },
          "metadata": {}
        }
      ]
    },
    {
      "cell_type": "markdown",
      "source": [
        "and their labels"
      ],
      "metadata": {
        "id": "bgAo-FW0rYgx"
      }
    },
    {
      "cell_type": "code",
      "source": [
        "y_train[:10]"
      ],
      "metadata": {
        "colab": {
          "base_uri": "https://localhost:8080/"
        },
        "id": "nmU9p5psqyyd",
        "outputId": "e3151966-6657-478d-a442-564fe6f41e75"
      },
      "execution_count": 7,
      "outputs": [
        {
          "output_type": "execute_result",
          "data": {
            "text/plain": [
              "Array([[0., 0., 0., 0., 0., 1., 0., 0., 0., 0.],\n",
              "       [1., 0., 0., 0., 0., 0., 0., 0., 0., 0.],\n",
              "       [0., 0., 0., 0., 1., 0., 0., 0., 0., 0.],\n",
              "       [0., 1., 0., 0., 0., 0., 0., 0., 0., 0.],\n",
              "       [0., 0., 0., 0., 0., 0., 0., 0., 0., 1.],\n",
              "       [0., 0., 1., 0., 0., 0., 0., 0., 0., 0.],\n",
              "       [0., 1., 0., 0., 0., 0., 0., 0., 0., 0.],\n",
              "       [0., 0., 0., 1., 0., 0., 0., 0., 0., 0.],\n",
              "       [0., 1., 0., 0., 0., 0., 0., 0., 0., 0.],\n",
              "       [0., 0., 0., 0., 1., 0., 0., 0., 0., 0.]], dtype=float32)"
            ]
          },
          "metadata": {},
          "execution_count": 7
        }
      ]
    },
    {
      "cell_type": "markdown",
      "source": [
        "## Model"
      ],
      "metadata": {
        "id": "y4Ldhyy1rrIi"
      }
    },
    {
      "cell_type": "code",
      "source": [
        "def make_network(layer_sizes):\n",
        "    \n",
        "    def init(key, scale=1e-2):\n",
        "        params = []\n",
        "        for n_in, n_out in zip(layer_sizes[:-1], layer_sizes[1:]):\n",
        "            weight_key, bias_key = jax.random.split(key)\n",
        "            weight = scale * jax.random.normal(weight_key, (n_in, n_out))\n",
        "            bias = scale * jax.random.normal(bias_key, (n_out,))\n",
        "            params.append((weight, bias))\n",
        "        return params\n",
        "\n",
        "    def relu(x):\n",
        "        return jnp.maximum(0, x)\n",
        "\n",
        "    def apply(params, x):\n",
        "        for w, b in params[:-1]:\n",
        "            x = relu(jnp.dot(x, w) + b)\n",
        "        final_w, final_b = params[-1]\n",
        "        return jnp.dot(x, final_w) + final_b\n",
        "\n",
        "    return init, apply"
      ],
      "metadata": {
        "id": "uRI8rFZMrvPY"
      },
      "execution_count": 8,
      "outputs": []
    },
    {
      "cell_type": "markdown",
      "source": [
        "We can now initialize the neural network"
      ],
      "metadata": {
        "id": "f1cCrzHutlhz"
      }
    },
    {
      "cell_type": "code",
      "source": [
        "layer_sizes = [784, 128, 64, 10] # IN: 784 pixels, OUT: 10 classes\n",
        "init_fn, apply_fn = make_network(layer_sizes)\n",
        "key = jax.random.PRNGKey(42)\n",
        "params = init_fn(key)"
      ],
      "metadata": {
        "id": "8Fk41iQIslsb"
      },
      "execution_count": 9,
      "outputs": []
    },
    {
      "cell_type": "markdown",
      "source": [
        "How many parameters do we have ?"
      ],
      "metadata": {
        "id": "FViV7HhKmtJ0"
      }
    },
    {
      "cell_type": "code",
      "source": [
        "from jax.flatten_util import ravel_pytree\n",
        "ravel_pytree(params)[0].size # 784*128 + 128*64 + 64*10 + 128 + 64 + 10 "
      ],
      "metadata": {
        "colab": {
          "base_uri": "https://localhost:8080/"
        },
        "id": "W4xv781cmsoQ",
        "outputId": "2222fd50-1b4c-4b63-deb8-c8ba853e525d"
      },
      "execution_count": 12,
      "outputs": [
        {
          "output_type": "execute_result",
          "data": {
            "text/plain": [
              "109386"
            ]
          },
          "metadata": {},
          "execution_count": 12
        }
      ]
    },
    {
      "cell_type": "markdown",
      "source": [
        "## Loss"
      ],
      "metadata": {
        "id": "DRqIMtwTuEPK"
      }
    },
    {
      "cell_type": "markdown",
      "source": [
        "The loss function reads $$\\mathcal{L} =- \\frac{1}{n} \\sum_{i=1}^{n} \\sum_{j=1}^{m} y_{i,j} \\log \\left( \\frac{\\exp(logits_{i,j})}{\\sum_{k=1}^{m} \\exp(logits_{i,k})} \\right)$$\n",
        "\n",
        "Here, $n$ is the number of samples in the batch, $m$ is the number of classes, $y_{i,j}$ is the one-hot encoded target label for sample $i$ and class $j$, $logits_{i,j}$ is the logit (i.e., the output of the linear transformation before applying the softmax activation) for sample $i$ and class $j$, and logsoftmax denotes the log of the softmax function applied element-wise to the logits.\n",
        "\n",
        "The expression inside the summation is the cross-entropy loss between the predicted probabilities (obtained by applying the softmax function to the logits) and the true one-hot encoded labels. The outer summation and mean are taken over the batch of samples to obtain the average loss per sample."
      ],
      "metadata": {
        "id": "PGdGAloEuU3f"
      }
    },
    {
      "cell_type": "code",
      "source": [
        "def cross_entropy(params, x, y):\n",
        "    logits = apply_fn(params, x)\n",
        "    return jnp.sum(y * jax.nn.log_softmax(logits))\n",
        "\n",
        "def cross_entropy_loss(params, x, y):\n",
        "    return -jnp.mean(jax.vmap(cross_entropy, (None, 0, 0),0)(params, x, y))"
      ],
      "metadata": {
        "id": "04Bsglo_uICT"
      },
      "execution_count": 13,
      "outputs": []
    },
    {
      "cell_type": "markdown",
      "source": [
        "## Optimization"
      ],
      "metadata": {
        "id": "IGsYG0JOwT1N"
      }
    },
    {
      "cell_type": "code",
      "source": [
        "# Define the update function\n",
        "@jax.jit\n",
        "def update(params, x, y, learning_rate):\n",
        "    grads = jax.grad(cross_entropy_loss)(params, x, y)\n",
        "    return jax.tree_map(lambda p, g: p - learning_rate * g, params, grads) \n",
        "\n",
        "# Define the accuracy function\n",
        "def accuracy(params, x, y):\n",
        "    predictions = jnp.argmax(apply_fn(params, x), axis=1)\n",
        "    actual = jnp.argmax(y, axis=1)\n",
        "    return jnp.mean(predictions == actual)"
      ],
      "metadata": {
        "id": "-Q6E9TD5xAW0"
      },
      "execution_count": 14,
      "outputs": []
    },
    {
      "cell_type": "code",
      "source": [
        "learning_rate = 0.1\n",
        "num_epochs = 10\n",
        "batch_size = 128\n",
        "\n",
        "train_size = x_train.shape[0]\n",
        "num_complete_batches, leftover = divmod(train_size, batch_size)\n",
        "num_batches = num_complete_batches + bool(leftover)\n",
        "\n",
        "for epoch in range(num_epochs):\n",
        "    # Shuffle the training data\n",
        "    key, subkey = jax.random.split(key)\n",
        "    permutation = jax.random.permutation(subkey, train_size)\n",
        "    x_train = x_train[permutation]\n",
        "    y_train = y_train[permutation]\n",
        "\n",
        "    for i in range(num_batches):\n",
        "        # Get batch data\n",
        "        batch_start = i * batch_size\n",
        "        batch_end = (i + 1) * batch_size\n",
        "        x_batch = x_train[batch_start:batch_end]\n",
        "        y_batch = y_train[batch_start:batch_end]\n",
        "\n",
        "        # Update parameters\n",
        "        params = update(params, x_batch, y_batch, learning_rate)\n",
        "\n",
        "    # Compute accuracy on training and test sets\n",
        "    train_accuracy = accuracy(params, x_train, y_train)\n",
        "    test_accuracy = accuracy(params, x_test, y_test)\n",
        "    print(f\"Epoch {epoch}: train accuracy = {train_accuracy:.3f}, test accuracy = {test_accuracy:.3f}\")"
      ],
      "metadata": {
        "colab": {
          "base_uri": "https://localhost:8080/"
        },
        "id": "TjOeLBk9wVVY",
        "outputId": "127689a2-96c7-4bcf-d93b-40ecc4c55275"
      },
      "execution_count": 15,
      "outputs": [
        {
          "output_type": "stream",
          "name": "stdout",
          "text": [
            "Epoch 0: train accuracy = 0.738, test accuracy = 0.748\n",
            "Epoch 1: train accuracy = 0.864, test accuracy = 0.863\n",
            "Epoch 2: train accuracy = 0.915, test accuracy = 0.913\n",
            "Epoch 3: train accuracy = 0.940, test accuracy = 0.938\n",
            "Epoch 4: train accuracy = 0.952, test accuracy = 0.950\n",
            "Epoch 5: train accuracy = 0.961, test accuracy = 0.956\n",
            "Epoch 6: train accuracy = 0.965, test accuracy = 0.961\n",
            "Epoch 7: train accuracy = 0.968, test accuracy = 0.959\n",
            "Epoch 8: train accuracy = 0.976, test accuracy = 0.967\n",
            "Epoch 9: train accuracy = 0.977, test accuracy = 0.968\n"
          ]
        }
      ]
    },
    {
      "cell_type": "markdown",
      "source": [
        "Let's see it for real for the first 10 test cases"
      ],
      "metadata": {
        "id": "j5QZVyhXzJa7"
      }
    },
    {
      "cell_type": "code",
      "source": [
        "fig, axes = plt.subplots(nrows=2, ncols=5, figsize=(10, 4),\n",
        "                         subplot_kw={'xticks': [], 'yticks': []})\n",
        "for i, ax in enumerate(axes.flat):\n",
        "    ax.imshow(x_test[i].reshape(28, 28), cmap='gray')\n",
        "plt.show()"
      ],
      "metadata": {
        "colab": {
          "base_uri": "https://localhost:8080/",
          "height": 249
        },
        "id": "Si8h9byxwwE6",
        "outputId": "d7b4b6e2-a141-4983-d202-9902515aa298"
      },
      "execution_count": 16,
      "outputs": [
        {
          "output_type": "display_data",
          "data": {
            "text/plain": [
              "<Figure size 720x288 with 10 Axes>"
            ],
            "image/png": "[encoded data removed]"
          },
          "metadata": {}
        }
      ]
    },
    {
      "cell_type": "code",
      "source": [
        "jnp.argmax(apply_fn(params, x_test[:10]), axis=1)"
      ],
      "metadata": {
        "colab": {
          "base_uri": "https://localhost:8080/"
        },
        "id": "LRSKXCzezATw",
        "outputId": "cf2cf512-3764-40d5-eb9e-00d24203c701"
      },
      "execution_count": 17,
      "outputs": [
        {
          "output_type": "execute_result",
          "data": {
            "text/plain": [
              "Array([7, 2, 1, 0, 4, 1, 4, 9, 5, 9], dtype=int32)"
            ]
          },
          "metadata": {},
          "execution_count": 17
        }
      ]
    },
    {
      "cell_type": "markdown",
      "source": [
        "Let's look at some case where the model made wrong prediction"
      ],
      "metadata": {
        "id": "yaougBGh01Gt"
      }
    },
    {
      "cell_type": "code",
      "source": [
        "predictions = jnp.argmax(apply_fn(params, x_test), axis=1)\n",
        "actual = jnp.argmax(y_test, axis=1)\n",
        "idx = jnp.where(predictions != actual)[0]\n",
        "\n",
        "fig, axes = plt.subplots(nrows=2, ncols=5, figsize=(10, 4),\n",
        "                         subplot_kw={'xticks': [], 'yticks': []})\n",
        "for i, ax in enumerate(axes.flat):\n",
        "    ax.imshow(x_test[idx[i]].reshape(28, 28), cmap='gray')\n",
        "plt.show()"
      ],
      "metadata": {
        "colab": {
          "base_uri": "https://localhost:8080/",
          "height": 249
        },
        "id": "7Gkjse4bzhp1",
        "outputId": "a2767581-f47a-49f2-a0ae-32d8922d159d"
      },
      "execution_count": 18,
      "outputs": [
        {
          "output_type": "display_data",
          "data": {
            "text/plain": [
              "<Figure size 720x288 with 10 Axes>"
            ],
            "image/png": "[encoded data removed]"
          },
          "metadata": {}
        }
      ]
    },
    {
      "cell_type": "markdown",
      "source": [
        "..., and the wrong predictions"
      ],
      "metadata": {
        "id": "CIzwz3D1oGlJ"
      }
    },
    {
      "cell_type": "code",
      "source": [
        "predictions[idx[:10]]"
      ],
      "metadata": {
        "colab": {
          "base_uri": "https://localhost:8080/"
        },
        "id": "Wbpny1CJoVww",
        "outputId": "9b7ed3aa-294b-4f60-e682-79de10621494"
      },
      "execution_count": 20,
      "outputs": [
        {
          "output_type": "execute_result",
          "data": {
            "text/plain": [
              "Array([7, 8, 3, 7, 5, 2, 0, 7, 3, 7], dtype=int32)"
            ]
          },
          "metadata": {},
          "execution_count": 20
        }
      ]
    },
    {
      "cell_type": "markdown",
      "source": [
        "let's reverse the color and see what happens"
      ],
      "metadata": {
        "id": "DAOWlkPCNgVD"
      }
    },
    {
      "cell_type": "code",
      "source": [
        "fig, axes = plt.subplots(nrows=2, ncols=5, figsize=(10, 4),\n",
        "                         subplot_kw={'xticks': [], 'yticks': []})\n",
        "for i, ax in enumerate(axes.flat):\n",
        "    ax.imshow(1-x_test[i].reshape(28, 28), cmap='gray')\n",
        "plt.show()"
      ],
      "metadata": {
        "colab": {
          "base_uri": "https://localhost:8080/",
          "height": 249
        },
        "id": "vW2fbv2CNlA9",
        "outputId": "9604dc9f-9b33-4ff9-843b-4fe5005e12a3"
      },
      "execution_count": 23,
      "outputs": [
        {
          "output_type": "display_data",
          "data": {
            "text/plain": [
              "<Figure size 720x288 with 10 Axes>"
            ],
            "image/png": "[encoded data removed]"
          },
          "metadata": {}
        }
      ]
    },
    {
      "cell_type": "code",
      "source": [
        "jnp.argmax(apply_fn(params, 1-x_test[:10]), axis=1)"
      ],
      "metadata": {
        "colab": {
          "base_uri": "https://localhost:8080/"
        },
        "id": "yYYVLHa2OH37",
        "outputId": "7cc7d67e-51be-4e1c-9f39-deeb74191759"
      },
      "execution_count": 24,
      "outputs": [
        {
          "output_type": "execute_result",
          "data": {
            "text/plain": [
              "Array([5, 3, 0, 3, 3, 0, 2, 2, 3, 5], dtype=int32)"
            ]
          },
          "metadata": {},
          "execution_count": 24
        }
      ]
    },
    {
      "cell_type": "markdown",
      "source": [
        "# Deep dream"
      ],
      "metadata": {
        "id": "JiNv8z8M0jEd"
      }
    },
    {
      "cell_type": "markdown",
      "source": [
        "We optimize the classification accuracy of images by carrying out gradient decend on the images (**not the params**)"
      ],
      "metadata": {
        "id": "hvvPJK1VqyOV"
      }
    },
    {
      "cell_type": "code",
      "source": [
        "x = jnp.zeros((10, 784))\n",
        "y = jax.nn.one_hot(jnp.array(range(10)), 10)"
      ],
      "metadata": {
        "id": "D77lzDC90mi_"
      },
      "execution_count": 118,
      "outputs": []
    },
    {
      "cell_type": "code",
      "source": [
        "def loss_fn(params, x, y):\n",
        "    return -cross_entropy(params, jax.nn.sigmoid(x), y) \n",
        "\n",
        "# here we use vmap of grad to get per sample gradient\n",
        "for epoch in range(500):\n",
        "    grads = jax.vmap(jax.grad(loss_fn, argnums=1), (None, 0, 0),0)(params, x, y)\n",
        "    x = jax.tree_map(lambda p, g: p - learning_rate * g, x, grads) "
      ],
      "metadata": {
        "id": "c6ET6eN21YMn"
      },
      "execution_count": 120,
      "outputs": []
    },
    {
      "cell_type": "markdown",
      "source": [
        "Here are the most likely 0-9 in the eyes of a neural network!"
      ],
      "metadata": {
        "id": "1ReF0g4Mxqjy"
      }
    },
    {
      "cell_type": "code",
      "source": [
        "fig, axes = plt.subplots(nrows=2, ncols=5, figsize=(10, 4),\n",
        "                         subplot_kw={'xticks': [], 'yticks': []})\n",
        "for i, ax in enumerate(axes.flat):\n",
        "    ax.imshow(jax.nn.sigmoid(x[i]).reshape(28, 28), cmap='gray')\n",
        "plt.show()"
      ],
      "metadata": {
        "id": "cUOwGZRm7cNb",
        "colab": {
          "base_uri": "https://localhost:8080/",
          "height": 249
        },
        "outputId": "79682169-5ec6-4d1e-85b7-5bd3c7e647aa"
      },
      "execution_count": 121,
      "outputs": [
        {
          "output_type": "display_data",
          "data": {
            "text/plain": [
              "<Figure size 720x288 with 10 Axes>"
            ],
            "image/png": "[encoded data removed]"
          },
          "metadata": {}
        }
      ]
    },
    {
      "cell_type": "markdown",
      "source": [
        "To prove it, let's see "
      ],
      "metadata": {
        "id": "31uW3RuDx0ym"
      }
    },
    {
      "cell_type": "code",
      "source": [
        "jnp.argmax(apply_fn(params, jax.nn.sigmoid(x)), axis=1)"
      ],
      "metadata": {
        "colab": {
          "base_uri": "https://localhost:8080/"
        },
        "id": "pbIOLcmdtOKD",
        "outputId": "2156672f-9a8d-413c-aade-7616289dce2d"
      },
      "execution_count": 122,
      "outputs": [
        {
          "output_type": "execute_result",
          "data": {
            "text/plain": [
              "Array([0, 1, 2, 3, 4, 5, 6, 7, 8, 9], dtype=int32)"
            ]
          },
          "metadata": {},
          "execution_count": 122
        }
      ]
    },
    {
      "cell_type": "code",
      "source": [],
      "metadata": {
        "id": "h6YweKS0yfMs"
      },
      "execution_count": null,
      "outputs": []
    }
  ]
}