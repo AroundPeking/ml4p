{
  "nbformat": 4,
  "nbformat_minor": 0,
  "metadata": {
    "colab": {
      "provenance": [],
      "collapsed_sections": [
        "y4Ldhyy1rrIi",
        "DRqIMtwTuEPK",
        "IGsYG0JOwT1N"
      ],
      "authorship_tag": "ABX9TyM9ZVX4MtcAgbIln/AbplSC",
      "include_colab_link": true
    },
    "kernelspec": {
      "name": "python3",
      "display_name": "Python 3"
    },
    "language_info": {
      "name": "python"
    },
    "accelerator": "GPU",
    "gpuClass": "standard"
  },
  "cells": [
    {
      "cell_type": "markdown",
      "metadata": {
        "id": "view-in-github",
        "colab_type": "text"
      },
      "source": [
        "<a href=\"https://colab.research.google.com/github/wangleiphy/ml4p/blob/main/materials/2_handson/mnist.ipynb\" target=\"_parent\"><img src=\"https://colab.research.google.com/assets/colab-badge.svg\" alt=\"Open In Colab\"/></a>"
      ]
    },
    {
      "cell_type": "markdown",
      "source": [
        "This notebook is reorganized from a chatgpt output. A few used prompts \n",
        "\n",
        "- please write for me an tutorial code of training a classifier using the MNIST data, the code should be written in Jax\"\n",
        "\n",
        "\n",
        "- please write latex formula of this code \"-jnp.mean(jnp.sum(y * jax.nn.log_softmax(logits), axis=1))\"\n",
        "\n",
        "\n",
        "- replace this \"[(w - learning_rate * dw, b - learning_rate * db) for (w, b), (dw, db) in zip(params, grads)]\" with a tree_map\n",
        "\n",
        "\n"
      ],
      "metadata": {
        "id": "WUEur8M91yEL"
      }
    },
    {
      "cell_type": "code",
      "execution_count": 3,
      "metadata": {
        "colab": {
          "base_uri": "https://localhost:8080/"
        },
        "id": "9-ohuqYupLuI",
        "outputId": "6fff31a8-0bf1-481b-9405-3d0f73a6bbd5"
      },
      "outputs": [
        {
          "output_type": "stream",
          "name": "stdout",
          "text": [
            "Fri Feb 24 13:38:43 2023       \n",
            "+-----------------------------------------------------------------------------+\n",
            "| NVIDIA-SMI 510.47.03    Driver Version: 510.47.03    CUDA Version: 11.6     |\n",
            "|-------------------------------+----------------------+----------------------+\n",
            "| GPU  Name        Persistence-M| Bus-Id        Disp.A | Volatile Uncorr. ECC |\n",
            "| Fan  Temp  Perf  Pwr:Usage/Cap|         Memory-Usage | GPU-Util  Compute M. |\n",
            "|                               |                      |               MIG M. |\n",
            "|===============================+======================+======================|\n",
            "|   0  Tesla T4            Off  | 00000000:00:04.0 Off |                    0 |\n",
            "| N/A   46C    P0    26W /  70W |      0MiB / 15360MiB |      0%      Default |\n",
            "|                               |                      |                  N/A |\n",
            "+-------------------------------+----------------------+----------------------+\n",
            "                                                                               \n",
            "+-----------------------------------------------------------------------------+\n",
            "| Processes:                                                                  |\n",
            "|  GPU   GI   CI        PID   Type   Process name                  GPU Memory |\n",
            "|        ID   ID                                                   Usage      |\n",
            "|=============================================================================|\n",
            "|  No running processes found                                                 |\n",
            "+-----------------------------------------------------------------------------+\n"
          ]
        }
      ],
      "source": [
        "!nvidia-smi"
      ]
    },
    {
      "cell_type": "code",
      "source": [
        "import jax\n",
        "import jax.numpy as jnp\n",
        "import matplotlib.pyplot as plt"
      ],
      "metadata": {
        "id": "8H-spreTtbMM"
      },
      "execution_count": 27,
      "outputs": []
    },
    {
      "cell_type": "markdown",
      "source": [
        "# Data"
      ],
      "metadata": {
        "id": "duZr7Il_pt6h"
      }
    },
    {
      "cell_type": "markdown",
      "source": [
        "First, let's get the MNIST data and prepare them into suitible format"
      ],
      "metadata": {
        "id": "m9A0DGJ4qTbl"
      }
    },
    {
      "cell_type": "code",
      "source": [
        "from tensorflow import keras\n",
        "from tensorflow.keras.datasets import mnist\n",
        "\n",
        "# Load the MNIST dataset\n",
        "(x_train, y_train), (x_test, y_test) = mnist.load_data()\n",
        "\n",
        "# Flatten images into a vector\n",
        "x_train = x_train.reshape((x_train.shape[0], -1))\n",
        "x_test = x_test.reshape((x_test.shape[0], -1))\n",
        "\n",
        "# Normalize pixel values\n",
        "x_train = x_train.astype(\"float32\") / 255\n",
        "x_test = x_test.astype(\"float32\") / 255\n",
        "\n",
        "# One-hot encode labels\n",
        "num_classes = 10\n",
        "y_train = keras.utils.to_categorical(y_train, num_classes)\n",
        "y_test = keras.utils.to_categorical(y_test, num_classes)"
      ],
      "metadata": {
        "colab": {
          "base_uri": "https://localhost:8080/"
        },
        "id": "36SxnoIDpexF",
        "outputId": "d2741fab-880c-4bcf-ce53-0fced8a14632"
      },
      "execution_count": 5,
      "outputs": [
        {
          "output_type": "stream",
          "name": "stdout",
          "text": [
            "Downloading data from https://storage.googleapis.com/tensorflow/tf-keras-datasets/mnist.npz\n",
            "11490434/11490434 [==============================] - 0s 0us/step\n"
          ]
        }
      ]
    },
    {
      "cell_type": "code",
      "source": [
        "x_train.shape, x_test.shape"
      ],
      "metadata": {
        "colab": {
          "base_uri": "https://localhost:8080/"
        },
        "id": "DmIaDR3JpohN",
        "outputId": "f97b6bd6-5fa9-4963-99a1-26f16159495c"
      },
      "execution_count": 9,
      "outputs": [
        {
          "output_type": "execute_result",
          "data": {
            "text/plain": [
              "((60000, 784), (10000, 784))"
            ]
          },
          "metadata": {},
          "execution_count": 9
        }
      ]
    },
    {
      "cell_type": "markdown",
      "source": [
        "Let's have a look at the first few images"
      ],
      "metadata": {
        "id": "ef25SuR2rQVw"
      }
    },
    {
      "cell_type": "code",
      "source": [
        "fig, axes = plt.subplots(nrows=2, ncols=5, figsize=(10, 4),\n",
        "                         subplot_kw={'xticks': [], 'yticks': []})\n",
        "for i, ax in enumerate(axes.flat):\n",
        "    ax.imshow(x_train[i].reshape(28, 28), cmap='gray')\n",
        "plt.show()"
      ],
      "metadata": {
        "colab": {
          "base_uri": "https://localhost:8080/",
          "height": 249
        },
        "id": "tUJwJaW2ptck",
        "outputId": "cc79c325-09fd-4afc-af18-207739494f9b"
      },
      "execution_count": 26,
      "outputs": [
        {
          "output_type": "display_data",
          "data": {
            "text/plain": [
              "<Figure size 720x288 with 10 Axes>"
            ],
            "image/png": "[encoded data removed]"
          },
          "metadata": {}
        }
      ]
    },
    {
      "cell_type": "markdown",
      "source": [
        "and their labels"
      ],
      "metadata": {
        "id": "bgAo-FW0rYgx"
      }
    },
    {
      "cell_type": "code",
      "source": [
        "print (y_train[:10]) "
      ],
      "metadata": {
        "colab": {
          "base_uri": "https://localhost:8080/"
        },
        "id": "nmU9p5psqyyd",
        "outputId": "2030b16b-d4e5-4c1c-e9e8-c5fca46fdb82"
      },
      "execution_count": 15,
      "outputs": [
        {
          "output_type": "stream",
          "name": "stdout",
          "text": [
            "[[0. 0. 0. 0. 0. 1. 0. 0. 0. 0.]\n",
            " [1. 0. 0. 0. 0. 0. 0. 0. 0. 0.]\n",
            " [0. 0. 0. 0. 1. 0. 0. 0. 0. 0.]\n",
            " [0. 1. 0. 0. 0. 0. 0. 0. 0. 0.]\n",
            " [0. 0. 0. 0. 0. 0. 0. 0. 0. 1.]\n",
            " [0. 0. 1. 0. 0. 0. 0. 0. 0. 0.]\n",
            " [0. 1. 0. 0. 0. 0. 0. 0. 0. 0.]\n",
            " [0. 0. 0. 1. 0. 0. 0. 0. 0. 0.]\n",
            " [0. 1. 0. 0. 0. 0. 0. 0. 0. 0.]\n",
            " [0. 0. 0. 0. 1. 0. 0. 0. 0. 0.]]\n"
          ]
        }
      ]
    },
    {
      "cell_type": "markdown",
      "source": [
        "# Model"
      ],
      "metadata": {
        "id": "y4Ldhyy1rrIi"
      }
    },
    {
      "cell_type": "code",
      "source": [
        "def make_network(layer_sizes):\n",
        "    def init(key, scale=1e-2):\n",
        "        params = []\n",
        "        for n_in, n_out in zip(layer_sizes[:-1], layer_sizes[1:]):\n",
        "            weight_key, bias_key = jax.random.split(key)\n",
        "            weight = scale * jax.random.normal(weight_key, (n_in, n_out))\n",
        "            bias = scale * jax.random.normal(bias_key, (n_out,))\n",
        "            params.append((weight, bias))\n",
        "        return params\n",
        "\n",
        "    def relu(x):\n",
        "        return jnp.maximum(0, x)\n",
        "\n",
        "    def apply(params, x):\n",
        "        for w, b in params[:-1]:\n",
        "            x = relu(jnp.dot(x, w) + b)\n",
        "        final_w, final_b = params[-1]\n",
        "        return jnp.dot(x, final_w) + final_b\n",
        "\n",
        "    return init, apply"
      ],
      "metadata": {
        "id": "uRI8rFZMrvPY"
      },
      "execution_count": 31,
      "outputs": []
    },
    {
      "cell_type": "markdown",
      "source": [
        "We can not initialize the neural network"
      ],
      "metadata": {
        "id": "f1cCrzHutlhz"
      }
    },
    {
      "cell_type": "code",
      "source": [
        "layer_sizes = [784, 128, 64, 10] # IN: 784 pixels, OUT: 10 classes\n",
        "init_fn, apply_fn = make_network(layer_sizes)\n",
        "key = jax.random.PRNGKey(42)\n",
        "params = init_fn(key)"
      ],
      "metadata": {
        "id": "8Fk41iQIslsb"
      },
      "execution_count": 33,
      "outputs": []
    },
    {
      "cell_type": "markdown",
      "source": [
        "# Loss"
      ],
      "metadata": {
        "id": "DRqIMtwTuEPK"
      }
    },
    {
      "cell_type": "markdown",
      "source": [
        "The loss function reads $$\\mathcal{L} =- \\frac{1}{n} \\sum_{i=1}^{n} \\sum_{j=1}^{m} y_{i,j} \\log \\left( \\frac{\\exp(logits_{i,j})}{\\sum_{k=1}^{m} \\exp(logits_{i,k})} \\right)$$\n",
        "\n",
        "Here, $n$ is the number of samples in the batch, $m$ is the number of classes, $y_{i,j}$ is the one-hot encoded target label for sample $i$ and class $j$, $logits_{i,j}$ is the logit (i.e., the output of the linear transformation before applying the softmax activation) for sample $i$ and class $j$, and logsoftmax denotes the log of the softmax function applied element-wise to the logits.\n",
        "\n",
        "The expression inside the summation is the cross-entropy loss between the predicted probabilities (obtained by applying the softmax function to the logits) and the true one-hot encoded labels. The outer summation and mean are taken over the batch of samples to obtain the average loss per sample."
      ],
      "metadata": {
        "id": "PGdGAloEuU3f"
      }
    },
    {
      "cell_type": "code",
      "source": [
        "def cross_entropy_loss(params, x, y):\n",
        "    logits = apply_fn(params, x)\n",
        "    return -jnp.mean(jnp.sum(y * jax.nn.log_softmax(logits), axis=1))"
      ],
      "metadata": {
        "id": "04Bsglo_uICT"
      },
      "execution_count": 41,
      "outputs": []
    },
    {
      "cell_type": "markdown",
      "source": [
        "# Optimization"
      ],
      "metadata": {
        "id": "IGsYG0JOwT1N"
      }
    },
    {
      "cell_type": "code",
      "source": [
        "# Define the update function\n",
        "@jax.jit\n",
        "def update(params, x, y, learning_rate):\n",
        "    grads = jax.grad(cross_entropy_loss)(params, x, y)\n",
        "    return jax.tree_map(lambda p, g: p - learning_rate * g, params, grads)\n",
        "\n",
        "# Define the accuracy function\n",
        "def accuracy(params, x, y):\n",
        "    predictions = jnp.argmax(apply_fn(params, x), axis=1)\n",
        "    actual = jnp.argmax(y, axis=1)\n",
        "    return jnp.mean(predictions == actual)"
      ],
      "metadata": {
        "id": "-Q6E9TD5xAW0"
      },
      "execution_count": 48,
      "outputs": []
    },
    {
      "cell_type": "code",
      "source": [
        "learning_rate = 0.1\n",
        "num_epochs = 10\n",
        "batch_size = 128\n",
        "\n",
        "train_size = x_train.shape[0]\n",
        "num_complete_batches, leftover = divmod(train_size, batch_size)\n",
        "num_batches = num_complete_batches + bool(leftover)\n",
        "\n",
        "for epoch in range(num_epochs):\n",
        "    # Shuffle the training data\n",
        "    key, subkey = jax.random.split(key)\n",
        "    permutation = jax.random.permutation(subkey, train_size)\n",
        "    x_train = x_train[permutation]\n",
        "    y_train = y_train[permutation]\n",
        "\n",
        "    for i in range(num_batches):\n",
        "        # Get batch data\n",
        "        batch_start = i * batch_size\n",
        "        batch_end = (i + 1) * batch_size\n",
        "        x_batch = x_train[batch_start:batch_end]\n",
        "        y_batch = y_train[batch_start:batch_end]\n",
        "\n",
        "        # Update parameters\n",
        "        params = update(params, x_batch, y_batch, learning_rate)\n",
        "\n",
        "    # Compute accuracy on training and test sets\n",
        "    train_accuracy = accuracy(params, x_train, y_train)\n",
        "    test_accuracy = accuracy(params, x_test, y_test)\n",
        "    print(f\"Epoch {epoch}: train accuracy = {train_accuracy:.3f}, test accuracy = {test_accuracy:.3f}\")"
      ],
      "metadata": {
        "colab": {
          "base_uri": "https://localhost:8080/"
        },
        "id": "TjOeLBk9wVVY",
        "outputId": "50725b3d-a3f7-4c84-9bb7-1ecc8c9947dd"
      },
      "execution_count": 75,
      "outputs": [
        {
          "output_type": "stream",
          "name": "stdout",
          "text": [
            "Epoch 0: train accuracy = 0.999, test accuracy = 0.978\n",
            "Epoch 1: train accuracy = 0.999, test accuracy = 0.979\n",
            "Epoch 2: train accuracy = 0.999, test accuracy = 0.979\n",
            "Epoch 3: train accuracy = 1.000, test accuracy = 0.979\n",
            "Epoch 4: train accuracy = 0.999, test accuracy = 0.978\n",
            "Epoch 5: train accuracy = 0.999, test accuracy = 0.977\n",
            "Epoch 6: train accuracy = 1.000, test accuracy = 0.979\n",
            "Epoch 7: train accuracy = 1.000, test accuracy = 0.979\n",
            "Epoch 8: train accuracy = 1.000, test accuracy = 0.979\n",
            "Epoch 9: train accuracy = 1.000, test accuracy = 0.979\n"
          ]
        }
      ]
    },
    {
      "cell_type": "markdown",
      "source": [
        "Let's see it for real for the first 10 test cases"
      ],
      "metadata": {
        "id": "j5QZVyhXzJa7"
      }
    },
    {
      "cell_type": "code",
      "source": [
        "fig, axes = plt.subplots(nrows=2, ncols=5, figsize=(10, 4),\n",
        "                         subplot_kw={'xticks': [], 'yticks': []})\n",
        "for i, ax in enumerate(axes.flat):\n",
        "    ax.imshow(x_test[i].reshape(28, 28), cmap='gray')\n",
        "plt.show()"
      ],
      "metadata": {
        "colab": {
          "base_uri": "https://localhost:8080/",
          "height": 249
        },
        "id": "Si8h9byxwwE6",
        "outputId": "e933c96b-b923-4f8f-9746-1ee72b839da1"
      },
      "execution_count": 50,
      "outputs": [
        {
          "output_type": "display_data",
          "data": {
            "text/plain": [
              "<Figure size 720x288 with 10 Axes>"
            ],
            "image/png": "[encoded data removed]"
          },
          "metadata": {}
        }
      ]
    },
    {
      "cell_type": "code",
      "source": [
        "jnp.argmax(apply_fn(params, x_test[:10]), axis=1)"
      ],
      "metadata": {
        "colab": {
          "base_uri": "https://localhost:8080/"
        },
        "id": "LRSKXCzezATw",
        "outputId": "38ee0353-2cac-463b-ea59-db64ca462815"
      },
      "execution_count": 52,
      "outputs": [
        {
          "output_type": "execute_result",
          "data": {
            "text/plain": [
              "DeviceArray([7, 2, 1, 0, 4, 1, 4, 9, 5, 9], dtype=int32)"
            ]
          },
          "metadata": {},
          "execution_count": 52
        }
      ]
    },
    {
      "cell_type": "markdown",
      "source": [
        "Let's look at some case where the model made wrong prediction"
      ],
      "metadata": {
        "id": "yaougBGh01Gt"
      }
    },
    {
      "cell_type": "code",
      "source": [
        "predictions = jnp.argmax(apply_fn(params, x_test), axis=1)\n",
        "actual = jnp.argmax(y_test, axis=1)\n",
        "idx = jnp.where(predictions != actual)[0]\n",
        "\n",
        "fig, axes = plt.subplots(nrows=2, ncols=5, figsize=(10, 4),\n",
        "                         subplot_kw={'xticks': [], 'yticks': []})\n",
        "for i, ax in enumerate(axes.flat):\n",
        "    ax.imshow(x_test[idx[i]].reshape(28, 28), cmap='gray')\n",
        "plt.show()"
      ],
      "metadata": {
        "colab": {
          "base_uri": "https://localhost:8080/",
          "height": 249
        },
        "id": "7Gkjse4bzhp1",
        "outputId": "ad5c88c7-2b85-4f72-9251-d8f75974729f"
      },
      "execution_count": 72,
      "outputs": [
        {
          "output_type": "display_data",
          "data": {
            "text/plain": [
              "<Figure size 720x288 with 10 Axes>"
            ],
            "image/png": "[encoded data removed]"
          },
          "metadata": {}
        }
      ]
    },
    {
      "cell_type": "code",
      "source": [
        "jnp.argmax(apply_fn(params, x_test[idx[:10], :]), axis=1)"
      ],
      "metadata": {
        "colab": {
          "base_uri": "https://localhost:8080/"
        },
        "id": "I2QWyFTrzsOk",
        "outputId": "096c9a43-703f-45f3-fde7-e7edd709b7c5"
      },
      "execution_count": 71,
      "outputs": [
        {
          "output_type": "execute_result",
          "data": {
            "text/plain": [
              "DeviceArray([7, 7, 5, 2, 0, 4, 7, 7, 3, 7], dtype=int32)"
            ]
          },
          "metadata": {},
          "execution_count": 71
        }
      ]
    },
    {
      "cell_type": "code",
      "source": [],
      "metadata": {
        "id": "QrJ5eSDS0ux-"
      },
      "execution_count": null,
      "outputs": []
    }
  ]
}