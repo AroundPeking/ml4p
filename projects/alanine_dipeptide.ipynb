{
  "nbformat": 4,
  "nbformat_minor": 0,
  "metadata": {
    "colab": {
      "provenance": [],
      "authorship_tag": "ABX9TyOWbfG270WrnybZTrT9WGF3",
      "include_colab_link": true
    },
    "kernelspec": {
      "name": "python3",
      "display_name": "Python 3"
    },
    "language_info": {
      "name": "python"
    },
    "widgets": {
      "application/vnd.jupyter.widget-state+json": {
        "ac7368ea01eb499a99d9b91e3019674e": {
          "model_module": "@jupyter-widgets/controls",
          "model_name": "HBoxModel",
          "model_module_version": "1.5.0",
          "state": {
            "_dom_classes": [],
            "_model_module": "@jupyter-widgets/controls",
            "_model_module_version": "1.5.0",
            "_model_name": "HBoxModel",
            "_view_count": null,
            "_view_module": "@jupyter-widgets/controls",
            "_view_module_version": "1.5.0",
            "_view_name": "HBoxView",
            "box_style": "",
            "children": [
              "IPY_MODEL_7c034335524b41ab8df3a1eda34d3e85",
              "IPY_MODEL_1ec923eb40c2459e85e227df7e0fdb75"
            ],
            "layout": "IPY_MODEL_7c005590b6c64d27a98ec3fee5a268cd"
          }
        },
        "7c034335524b41ab8df3a1eda34d3e85": {
          "model_module": "nglview-js-widgets",
          "model_name": "NGLModel",
          "model_module_version": "3.0.1",
          "state": {
            "_camera_orientation": [
              22.791355077087132,
              0,
              0,
              0,
              0,
              22.791355077087132,
              0,
              0,
              0,
              0,
              22.791355077087132,
              0,
              -4.450999841094017,
              -55.05550003051758,
              -0.15000009536743164,
              1
            ],
            "_camera_str": "orthographic",
            "_dom_classes": [],
            "_gui_theme": null,
            "_ibtn_fullscreen": "IPY_MODEL_9368bd862b2448f3947adee4968314b5",
            "_igui": null,
            "_iplayer": "IPY_MODEL_724dadf0696f4073902b99e5d0690577",
            "_model_module": "nglview-js-widgets",
            "_model_module_version": "3.0.1",
            "_model_name": "NGLModel",
            "_ngl_color_dict": {},
            "_ngl_coordinate_resource": {},
            "_ngl_full_stage_parameters": {
              "impostor": true,
              "quality": "medium",
              "workerDefault": true,
              "sampleLevel": 0,
              "backgroundColor": "white",
              "rotateSpeed": 2,
              "zoomSpeed": 1.2,
              "panSpeed": 1,
              "clipNear": 0,
              "clipFar": 100,
              "clipDist": 0,
              "fogNear": 50,
              "fogFar": 100,
              "cameraFov": 40,
              "cameraEyeSep": 0.3,
              "cameraType": "orthographic",
              "lightColor": 14540253,
              "lightIntensity": 1,
              "ambientColor": 14540253,
              "ambientIntensity": 0.2,
              "hoverTimeout": 0,
              "tooltip": true,
              "mousePreset": "default"
            },
            "_ngl_msg_archive": [
              {
                "target": "Stage",
                "type": "call_method",
                "methodName": "loadFile",
                "reconstruc_color_scheme": false,
                "args": [
                  {
                    "type": "blob",
                    "data": "MODEL     1\nATOM      1    C MOL     1       9.294  61.441   4.116  1.00  0.00           C  \nATOM      2    C MOL     1       6.771  59.468   2.887  1.00  0.00           C  \nATOM      3    O MOL     1       3.939  60.225   3.360  1.00  0.00           O  \nATOM      4    N MOL     1       7.686  57.332   0.815  1.00  0.00           N  \nATOM      5    C MOL     1       5.351  55.297  -0.783  1.00  0.00           C  \nATOM      6    C MOL     1       6.715  54.192  -3.816  1.00  0.00           C  \nATOM      7    C MOL     1       3.972  52.688   1.132  1.00  0.00           C  \nATOM      8    O MOL     1       4.667  52.104   3.915  1.00  0.00           O  \nATOM      9    N MOL     1       1.495  51.112  -0.179  1.00  0.00           N  \nATOM     10    C MOL     1      -0.392  48.670   1.334  1.00  0.00           C  \nENDMDL\n",
                    "binary": false
                  }
                ],
                "kwargs": {
                  "defaultRepresentation": false,
                  "ext": "pdb"
                }
              },
              {
                "target": "Widget",
                "type": "call_method",
                "methodName": "setSize",
                "reconstruc_color_scheme": false,
                "args": [
                  "500px",
                  "500px"
                ],
                "kwargs": {}
              },
              {
                "component_index": 0,
                "target": "compList",
                "type": "call_method",
                "methodName": "addRepresentation",
                "reconstruc_color_scheme": false,
                "args": [
                  "unitcell"
                ],
                "kwargs": {
                  "sele": "all"
                }
              },
              {
                "component_index": 0,
                "target": "compList",
                "type": "call_method",
                "methodName": "addRepresentation",
                "reconstruc_color_scheme": false,
                "args": [
                  "spacefill"
                ],
                "kwargs": {
                  "sele": "all"
                }
              },
              {
                "target": "Stage",
                "type": "call_method",
                "methodName": "setParameters",
                "reconstruc_color_scheme": false,
                "args": [],
                "kwargs": {
                  "cameraType": "orthographic"
                }
              },
              {
                "target": "Widget",
                "type": "call_method",
                "methodName": "setParameters",
                "reconstruc_color_scheme": false,
                "args": [
                  {
                    "clipDist": 0
                  }
                ],
                "kwargs": {}
              },
              {
                "target": "Widget",
                "type": "call_method",
                "methodName": "updateRepresentationsByName",
                "reconstruc_color_scheme": false,
                "args": [
                  "spacefill",
                  0
                ],
                "kwargs": {
                  "radiusType": "covalent",
                  "radiusScale": 0.5,
                  "colorScheme": "element",
                  "colorScale": "rainbow"
                }
              },
              {
                "target": "Widget",
                "type": "call_method",
                "methodName": "updateRepresentationsByName",
                "reconstruc_color_scheme": false,
                "args": [
                  "spacefill",
                  0
                ],
                "kwargs": {
                  "radiusType": "covalent",
                  "radiusScale": 0.5,
                  "colorScheme": "element",
                  "colorScale": "rainbow"
                }
              },
              {
                "target": "Widget",
                "type": "call_method",
                "methodName": "updateRepresentationsByName",
                "reconstruc_color_scheme": false,
                "args": [
                  "spacefill",
                  0
                ],
                "kwargs": {
                  "radiusType": "covalent",
                  "radiusScale": 0.49999999999999994,
                  "colorScheme": "element",
                  "colorScale": "rainbow"
                }
              },
              {
                "target": "Widget",
                "type": "call_method",
                "methodName": "updateRepresentationsByName",
                "reconstruc_color_scheme": false,
                "args": [
                  "spacefill",
                  0
                ],
                "kwargs": {
                  "radiusType": "covalent",
                  "radiusScale": 0.49999999999999994,
                  "colorScheme": "element",
                  "colorScale": "rainbow"
                }
              }
            ],
            "_ngl_original_stage_parameters": {
              "impostor": true,
              "quality": "medium",
              "workerDefault": true,
              "sampleLevel": 0,
              "backgroundColor": "white",
              "rotateSpeed": 2,
              "zoomSpeed": 1.2,
              "panSpeed": 1,
              "clipNear": 0,
              "clipFar": 100,
              "clipDist": 10,
              "fogNear": 50,
              "fogFar": 100,
              "cameraFov": 40,
              "cameraEyeSep": 0.3,
              "cameraType": "perspective",
              "lightColor": 14540253,
              "lightIntensity": 1,
              "ambientColor": 14540253,
              "ambientIntensity": 0.2,
              "hoverTimeout": 0,
              "tooltip": true,
              "mousePreset": "default"
            },
            "_ngl_repr_dict": {
              "0": {
                "0": {
                  "type": "unitcell",
                  "params": {
                    "lazy": false,
                    "visible": true,
                    "quality": "medium",
                    "radiusSize": 0.5,
                    "sphereDetail": 1,
                    "radialSegments": 10,
                    "disableImpostor": false,
                    "radiusType": "vdw",
                    "radiusData": {},
                    "radiusScale": 1,
                    "defaultAssembly": "",
                    "clipNear": 0,
                    "clipRadius": 0,
                    "clipCenter": {
                      "x": 0,
                      "y": 0,
                      "z": 0
                    },
                    "flatShaded": false,
                    "opacity": 1,
                    "depthWrite": true,
                    "side": "double",
                    "wireframe": false,
                    "colorScheme": "element",
                    "colorScale": "",
                    "colorReverse": false,
                    "colorValue": "orange",
                    "colorMode": "hcl",
                    "roughness": 0.4,
                    "metalness": 0,
                    "diffuse": 16777215,
                    "diffuseInterior": false,
                    "useInteriorColor": true,
                    "interiorColor": 2236962,
                    "interiorDarkening": 0,
                    "matrix": {
                      "elements": [
                        1,
                        0,
                        0,
                        0,
                        0,
                        1,
                        0,
                        0,
                        0,
                        0,
                        1,
                        0,
                        0,
                        0,
                        0,
                        1
                      ]
                    },
                    "disablePicking": false,
                    "sele": "all"
                  }
                },
                "1": {
                  "type": "unitcell",
                  "params": {
                    "lazy": false,
                    "visible": true,
                    "quality": "medium",
                    "radiusSize": 0.5,
                    "sphereDetail": 1,
                    "radialSegments": 10,
                    "disableImpostor": false,
                    "radiusType": "vdw",
                    "radiusData": {},
                    "radiusScale": 1,
                    "defaultAssembly": "",
                    "clipNear": 0,
                    "clipRadius": 0,
                    "clipCenter": {
                      "x": 0,
                      "y": 0,
                      "z": 0
                    },
                    "flatShaded": false,
                    "opacity": 1,
                    "depthWrite": true,
                    "side": "double",
                    "wireframe": false,
                    "colorScheme": "element",
                    "colorScale": "",
                    "colorReverse": false,
                    "colorValue": "orange",
                    "colorMode": "hcl",
                    "roughness": 0.4,
                    "metalness": 0,
                    "diffuse": 16777215,
                    "diffuseInterior": false,
                    "useInteriorColor": true,
                    "interiorColor": 2236962,
                    "interiorDarkening": 0,
                    "matrix": {
                      "elements": [
                        1,
                        0,
                        0,
                        0,
                        0,
                        1,
                        0,
                        0,
                        0,
                        0,
                        1,
                        0,
                        0,
                        0,
                        0,
                        1
                      ]
                    },
                    "disablePicking": false,
                    "sele": "all"
                  }
                },
                "2": {
                  "type": "spacefill",
                  "params": {
                    "lazy": false,
                    "visible": true,
                    "quality": "medium",
                    "sphereDetail": 1,
                    "disableImpostor": false,
                    "radiusType": "covalent",
                    "radiusData": {},
                    "radiusSize": 1,
                    "radiusScale": 0.5,
                    "assembly": "default",
                    "defaultAssembly": "",
                    "clipNear": 0,
                    "clipRadius": 0,
                    "clipCenter": {
                      "x": 0,
                      "y": 0,
                      "z": 0
                    },
                    "flatShaded": false,
                    "opacity": 1,
                    "depthWrite": true,
                    "side": "double",
                    "wireframe": false,
                    "colorScheme": "element",
                    "colorScale": "rainbow",
                    "colorReverse": false,
                    "colorValue": 9474192,
                    "colorMode": "hcl",
                    "roughness": 0.4,
                    "metalness": 0,
                    "diffuse": 16777215,
                    "diffuseInterior": false,
                    "useInteriorColor": true,
                    "interiorColor": 2236962,
                    "interiorDarkening": 0,
                    "matrix": {
                      "elements": [
                        1,
                        0,
                        0,
                        0,
                        0,
                        1,
                        0,
                        0,
                        0,
                        0,
                        1,
                        0,
                        0,
                        0,
                        0,
                        1
                      ]
                    },
                    "disablePicking": false,
                    "sele": "all"
                  }
                },
                "3": {
                  "type": "spacefill",
                  "params": {
                    "lazy": false,
                    "visible": true,
                    "quality": "medium",
                    "sphereDetail": 1,
                    "disableImpostor": false,
                    "radiusType": "covalent",
                    "radiusData": {},
                    "radiusSize": 1,
                    "radiusScale": 0.5,
                    "assembly": "default",
                    "defaultAssembly": "",
                    "clipNear": 0,
                    "clipRadius": 0,
                    "clipCenter": {
                      "x": 0,
                      "y": 0,
                      "z": 0
                    },
                    "flatShaded": false,
                    "opacity": 1,
                    "depthWrite": true,
                    "side": "double",
                    "wireframe": false,
                    "colorScheme": "element",
                    "colorScale": "rainbow",
                    "colorReverse": false,
                    "colorValue": 9474192,
                    "colorMode": "hcl",
                    "roughness": 0.4,
                    "metalness": 0,
                    "diffuse": 16777215,
                    "diffuseInterior": false,
                    "useInteriorColor": true,
                    "interiorColor": 2236962,
                    "interiorDarkening": 0,
                    "matrix": {
                      "elements": [
                        1,
                        0,
                        0,
                        0,
                        0,
                        1,
                        0,
                        0,
                        0,
                        0,
                        1,
                        0,
                        0,
                        0,
                        0,
                        1
                      ]
                    },
                    "disablePicking": false,
                    "sele": "all"
                  }
                }
              },
              "1": {}
            },
            "_ngl_serialize": false,
            "_ngl_version": "2.0.0-dev.36",
            "_ngl_view_id": [
              "80EB5CB3-2C92-4059-AAEB-8204ACB71894"
            ],
            "_player_dict": {},
            "_scene_position": {},
            "_scene_rotation": {},
            "_synced_model_ids": [],
            "_synced_repr_model_ids": [],
            "_view_count": null,
            "_view_height": "",
            "_view_module": "nglview-js-widgets",
            "_view_module_version": "3.0.1",
            "_view_name": "NGLView",
            "_view_width": "",
            "background": "white",
            "frame": 0,
            "gui_style": null,
            "layout": "IPY_MODEL_79bb335edd65453aa0041f529ad6c6a1",
            "max_frame": 0,
            "n_components": 2,
            "picked": {}
          }
        },
        "1ec923eb40c2459e85e227df7e0fdb75": {
          "model_module": "@jupyter-widgets/controls",
          "model_name": "VBoxModel",
          "model_module_version": "1.5.0",
          "state": {
            "_dom_classes": [],
            "_model_module": "@jupyter-widgets/controls",
            "_model_module_version": "1.5.0",
            "_model_name": "VBoxModel",
            "_view_count": null,
            "_view_module": "@jupyter-widgets/controls",
            "_view_module_version": "1.5.0",
            "_view_name": "VBoxView",
            "box_style": "",
            "children": [
              "IPY_MODEL_4d36bbbed76b47069ab0b7da74cf9819",
              "IPY_MODEL_46262feb5e6d4d44a011b28f4a7e9b62",
              "IPY_MODEL_c6d3ceaea4314d74845ac41bb78a31d9"
            ],
            "layout": "IPY_MODEL_22613d5746a248e381bdb4f2b6ed8bc3"
          }
        },
        "7c005590b6c64d27a98ec3fee5a268cd": {
          "model_module": "@jupyter-widgets/base",
          "model_name": "LayoutModel",
          "model_module_version": "1.2.0",
          "state": {
            "_model_module": "@jupyter-widgets/base",
            "_model_module_version": "1.2.0",
            "_model_name": "LayoutModel",
            "_view_count": null,
            "_view_module": "@jupyter-widgets/base",
            "_view_module_version": "1.2.0",
            "_view_name": "LayoutView",
            "align_content": null,
            "align_items": null,
            "align_self": null,
            "border": null,
            "bottom": null,
            "display": null,
            "flex": null,
            "flex_flow": null,
            "grid_area": null,
            "grid_auto_columns": null,
            "grid_auto_flow": null,
            "grid_auto_rows": null,
            "grid_column": null,
            "grid_gap": null,
            "grid_row": null,
            "grid_template_areas": null,
            "grid_template_columns": null,
            "grid_template_rows": null,
            "height": null,
            "justify_content": null,
            "justify_items": null,
            "left": null,
            "margin": null,
            "max_height": null,
            "max_width": null,
            "min_height": null,
            "min_width": null,
            "object_fit": null,
            "object_position": null,
            "order": null,
            "overflow": null,
            "overflow_x": null,
            "overflow_y": null,
            "padding": null,
            "right": null,
            "top": null,
            "visibility": null,
            "width": null
          }
        },
        "4d36bbbed76b47069ab0b7da74cf9819": {
          "model_module": "@jupyter-widgets/controls",
          "model_name": "DropdownModel",
          "model_module_version": "1.5.0",
          "state": {
            "_dom_classes": [],
            "_model_module": "@jupyter-widgets/controls",
            "_model_module_version": "1.5.0",
            "_model_name": "DropdownModel",
            "_options_labels": [
              "All",
              "C",
              "O",
              "N"
            ],
            "_view_count": null,
            "_view_module": "@jupyter-widgets/controls",
            "_view_module_version": "1.5.0",
            "_view_name": "DropdownView",
            "description": "Show",
            "description_tooltip": null,
            "disabled": false,
            "index": 0,
            "layout": "IPY_MODEL_be9849b0c6de405c8ec5ea1eeb6bf452",
            "style": "IPY_MODEL_9b7322281f7d4bdea0ddc1a83ee053b1"
          }
        },
        "46262feb5e6d4d44a011b28f4a7e9b62": {
          "model_module": "@jupyter-widgets/controls",
          "model_name": "DropdownModel",
          "model_module_version": "1.5.0",
          "state": {
            "_dom_classes": [],
            "_model_module": "@jupyter-widgets/controls",
            "_model_module_version": "1.5.0",
            "_model_name": "DropdownModel",
            "_options_labels": [
              " ",
              "picking",
              "random",
              "uniform",
              "atomindex",
              "residueindex",
              "chainindex",
              "modelindex",
              "sstruc",
              "element",
              "resname",
              "bfactor",
              "hydrophobicity",
              "value",
              "volume",
              "occupancy"
            ],
            "_view_count": null,
            "_view_module": "@jupyter-widgets/controls",
            "_view_module_version": "1.5.0",
            "_view_name": "DropdownView",
            "description": "Color scheme",
            "description_tooltip": null,
            "disabled": false,
            "index": 9,
            "layout": "IPY_MODEL_9fa12cda73ff49079bcb23a7cf47a67f",
            "style": "IPY_MODEL_a57dbd53d3f64259ae25a37ae5d3e91b"
          }
        },
        "c6d3ceaea4314d74845ac41bb78a31d9": {
          "model_module": "@jupyter-widgets/controls",
          "model_name": "FloatSliderModel",
          "model_module_version": "1.5.0",
          "state": {
            "_dom_classes": [],
            "_model_module": "@jupyter-widgets/controls",
            "_model_module_version": "1.5.0",
            "_model_name": "FloatSliderModel",
            "_view_count": null,
            "_view_module": "@jupyter-widgets/controls",
            "_view_module_version": "1.5.0",
            "_view_name": "FloatSliderView",
            "continuous_update": true,
            "description": "Ball size",
            "description_tooltip": null,
            "disabled": false,
            "layout": "IPY_MODEL_5589a5aa1af246e795096a8a2158f7e1",
            "max": 1.5,
            "min": 0,
            "orientation": "horizontal",
            "readout": true,
            "readout_format": ".2f",
            "step": 0.01,
            "style": "IPY_MODEL_363d6ae9928b453eb334462bc71d9485",
            "value": 0.49999999999999994
          }
        },
        "22613d5746a248e381bdb4f2b6ed8bc3": {
          "model_module": "@jupyter-widgets/base",
          "model_name": "LayoutModel",
          "model_module_version": "1.2.0",
          "state": {
            "_model_module": "@jupyter-widgets/base",
            "_model_module_version": "1.2.0",
            "_model_name": "LayoutModel",
            "_view_count": null,
            "_view_module": "@jupyter-widgets/base",
            "_view_module_version": "1.2.0",
            "_view_name": "LayoutView",
            "align_content": null,
            "align_items": null,
            "align_self": null,
            "border": null,
            "bottom": null,
            "display": null,
            "flex": null,
            "flex_flow": null,
            "grid_area": null,
            "grid_auto_columns": null,
            "grid_auto_flow": null,
            "grid_auto_rows": null,
            "grid_column": null,
            "grid_gap": null,
            "grid_row": null,
            "grid_template_areas": null,
            "grid_template_columns": null,
            "grid_template_rows": null,
            "height": null,
            "justify_content": null,
            "justify_items": null,
            "left": null,
            "margin": null,
            "max_height": null,
            "max_width": null,
            "min_height": null,
            "min_width": null,
            "object_fit": null,
            "object_position": null,
            "order": null,
            "overflow": null,
            "overflow_x": null,
            "overflow_y": null,
            "padding": null,
            "right": null,
            "top": null,
            "visibility": null,
            "width": null
          }
        },
        "be9849b0c6de405c8ec5ea1eeb6bf452": {
          "model_module": "@jupyter-widgets/base",
          "model_name": "LayoutModel",
          "model_module_version": "1.2.0",
          "state": {
            "_model_module": "@jupyter-widgets/base",
            "_model_module_version": "1.2.0",
            "_model_name": "LayoutModel",
            "_view_count": null,
            "_view_module": "@jupyter-widgets/base",
            "_view_module_version": "1.2.0",
            "_view_name": "LayoutView",
            "align_content": null,
            "align_items": null,
            "align_self": null,
            "border": null,
            "bottom": null,
            "display": null,
            "flex": null,
            "flex_flow": null,
            "grid_area": null,
            "grid_auto_columns": null,
            "grid_auto_flow": null,
            "grid_auto_rows": null,
            "grid_column": null,
            "grid_gap": null,
            "grid_row": null,
            "grid_template_areas": null,
            "grid_template_columns": null,
            "grid_template_rows": null,
            "height": null,
            "justify_content": null,
            "justify_items": null,
            "left": null,
            "margin": null,
            "max_height": null,
            "max_width": null,
            "min_height": null,
            "min_width": null,
            "object_fit": null,
            "object_position": null,
            "order": null,
            "overflow": null,
            "overflow_x": null,
            "overflow_y": null,
            "padding": null,
            "right": null,
            "top": null,
            "visibility": null,
            "width": null
          }
        },
        "9b7322281f7d4bdea0ddc1a83ee053b1": {
          "model_module": "@jupyter-widgets/controls",
          "model_name": "DescriptionStyleModel",
          "model_module_version": "1.5.0",
          "state": {
            "_model_module": "@jupyter-widgets/controls",
            "_model_module_version": "1.5.0",
            "_model_name": "DescriptionStyleModel",
            "_view_count": null,
            "_view_module": "@jupyter-widgets/base",
            "_view_module_version": "1.2.0",
            "_view_name": "StyleView",
            "description_width": ""
          }
        },
        "9fa12cda73ff49079bcb23a7cf47a67f": {
          "model_module": "@jupyter-widgets/base",
          "model_name": "LayoutModel",
          "model_module_version": "1.2.0",
          "state": {
            "_model_module": "@jupyter-widgets/base",
            "_model_module_version": "1.2.0",
            "_model_name": "LayoutModel",
            "_view_count": null,
            "_view_module": "@jupyter-widgets/base",
            "_view_module_version": "1.2.0",
            "_view_name": "LayoutView",
            "align_content": null,
            "align_items": null,
            "align_self": null,
            "border": null,
            "bottom": null,
            "display": null,
            "flex": null,
            "flex_flow": null,
            "grid_area": null,
            "grid_auto_columns": null,
            "grid_auto_flow": null,
            "grid_auto_rows": null,
            "grid_column": null,
            "grid_gap": null,
            "grid_row": null,
            "grid_template_areas": null,
            "grid_template_columns": null,
            "grid_template_rows": null,
            "height": null,
            "justify_content": null,
            "justify_items": null,
            "left": null,
            "margin": null,
            "max_height": null,
            "max_width": null,
            "min_height": null,
            "min_width": null,
            "object_fit": null,
            "object_position": null,
            "order": null,
            "overflow": null,
            "overflow_x": null,
            "overflow_y": null,
            "padding": null,
            "right": null,
            "top": null,
            "visibility": null,
            "width": null
          }
        },
        "a57dbd53d3f64259ae25a37ae5d3e91b": {
          "model_module": "@jupyter-widgets/controls",
          "model_name": "DescriptionStyleModel",
          "model_module_version": "1.5.0",
          "state": {
            "_model_module": "@jupyter-widgets/controls",
            "_model_module_version": "1.5.0",
            "_model_name": "DescriptionStyleModel",
            "_view_count": null,
            "_view_module": "@jupyter-widgets/base",
            "_view_module_version": "1.2.0",
            "_view_name": "StyleView",
            "description_width": ""
          }
        },
        "5589a5aa1af246e795096a8a2158f7e1": {
          "model_module": "@jupyter-widgets/base",
          "model_name": "LayoutModel",
          "model_module_version": "1.2.0",
          "state": {
            "_model_module": "@jupyter-widgets/base",
            "_model_module_version": "1.2.0",
            "_model_name": "LayoutModel",
            "_view_count": null,
            "_view_module": "@jupyter-widgets/base",
            "_view_module_version": "1.2.0",
            "_view_name": "LayoutView",
            "align_content": null,
            "align_items": null,
            "align_self": null,
            "border": null,
            "bottom": null,
            "display": null,
            "flex": null,
            "flex_flow": null,
            "grid_area": null,
            "grid_auto_columns": null,
            "grid_auto_flow": null,
            "grid_auto_rows": null,
            "grid_column": null,
            "grid_gap": null,
            "grid_row": null,
            "grid_template_areas": null,
            "grid_template_columns": null,
            "grid_template_rows": null,
            "height": null,
            "justify_content": null,
            "justify_items": null,
            "left": null,
            "margin": null,
            "max_height": null,
            "max_width": null,
            "min_height": null,
            "min_width": null,
            "object_fit": null,
            "object_position": null,
            "order": null,
            "overflow": null,
            "overflow_x": null,
            "overflow_y": null,
            "padding": null,
            "right": null,
            "top": null,
            "visibility": null,
            "width": null
          }
        },
        "363d6ae9928b453eb334462bc71d9485": {
          "model_module": "@jupyter-widgets/controls",
          "model_name": "SliderStyleModel",
          "model_module_version": "1.5.0",
          "state": {
            "_model_module": "@jupyter-widgets/controls",
            "_model_module_version": "1.5.0",
            "_model_name": "SliderStyleModel",
            "_view_count": null,
            "_view_module": "@jupyter-widgets/base",
            "_view_module_version": "1.2.0",
            "_view_name": "StyleView",
            "description_width": "",
            "handle_color": null
          }
        },
        "79bb335edd65453aa0041f529ad6c6a1": {
          "model_module": "@jupyter-widgets/base",
          "model_name": "LayoutModel",
          "model_module_version": "1.2.0",
          "state": {
            "_model_module": "@jupyter-widgets/base",
            "_model_module_version": "1.2.0",
            "_model_name": "LayoutModel",
            "_view_count": null,
            "_view_module": "@jupyter-widgets/base",
            "_view_module_version": "1.2.0",
            "_view_name": "LayoutView",
            "align_content": null,
            "align_items": null,
            "align_self": null,
            "border": null,
            "bottom": null,
            "display": null,
            "flex": null,
            "flex_flow": null,
            "grid_area": null,
            "grid_auto_columns": null,
            "grid_auto_flow": null,
            "grid_auto_rows": null,
            "grid_column": null,
            "grid_gap": null,
            "grid_row": null,
            "grid_template_areas": null,
            "grid_template_columns": null,
            "grid_template_rows": null,
            "height": null,
            "justify_content": null,
            "justify_items": null,
            "left": null,
            "margin": null,
            "max_height": null,
            "max_width": null,
            "min_height": null,
            "min_width": null,
            "object_fit": null,
            "object_position": null,
            "order": null,
            "overflow": null,
            "overflow_x": null,
            "overflow_y": null,
            "padding": null,
            "right": null,
            "top": null,
            "visibility": null,
            "width": null
          }
        },
        "9368bd862b2448f3947adee4968314b5": {
          "model_module": "@jupyter-widgets/controls",
          "model_name": "ButtonModel",
          "model_module_version": "1.5.0",
          "state": {
            "_dom_classes": [],
            "_model_module": "@jupyter-widgets/controls",
            "_model_module_version": "1.5.0",
            "_model_name": "ButtonModel",
            "_view_count": null,
            "_view_module": "@jupyter-widgets/controls",
            "_view_module_version": "1.5.0",
            "_view_name": "ButtonView",
            "button_style": "",
            "description": "",
            "disabled": false,
            "icon": "compress",
            "layout": "IPY_MODEL_3e733466279f4c4f92aca488b71134f7",
            "style": "IPY_MODEL_08e62a1ae2bc4adeb8ce613e27dd7870",
            "tooltip": ""
          }
        },
        "724dadf0696f4073902b99e5d0690577": {
          "model_module": "@jupyter-widgets/controls",
          "model_name": "HBoxModel",
          "model_module_version": "1.5.0",
          "state": {
            "_dom_classes": [],
            "_model_module": "@jupyter-widgets/controls",
            "_model_module_version": "1.5.0",
            "_model_name": "HBoxModel",
            "_view_count": null,
            "_view_module": "@jupyter-widgets/controls",
            "_view_module_version": "1.5.0",
            "_view_name": "HBoxView",
            "box_style": "",
            "children": [
              "IPY_MODEL_c27d79bba7e8434b8bdb53324267576d",
              "IPY_MODEL_8d7ac1249307457f814eec3137bbb40d"
            ],
            "layout": "IPY_MODEL_ab811808a21a450e9c19bcde088ba427"
          }
        },
        "a284e71b02e4429d8ea2b2e1a350858e": {
          "model_module": "@jupyter-widgets/base",
          "model_name": "LayoutModel",
          "model_module_version": "1.2.0",
          "state": {
            "_model_module": "@jupyter-widgets/base",
            "_model_module_version": "1.2.0",
            "_model_name": "LayoutModel",
            "_view_count": null,
            "_view_module": "@jupyter-widgets/base",
            "_view_module_version": "1.2.0",
            "_view_name": "LayoutView",
            "align_content": null,
            "align_items": null,
            "align_self": null,
            "border": null,
            "bottom": null,
            "display": null,
            "flex": null,
            "flex_flow": null,
            "grid_area": null,
            "grid_auto_columns": null,
            "grid_auto_flow": null,
            "grid_auto_rows": null,
            "grid_column": null,
            "grid_gap": null,
            "grid_row": null,
            "grid_template_areas": null,
            "grid_template_columns": null,
            "grid_template_rows": null,
            "height": null,
            "justify_content": null,
            "justify_items": null,
            "left": null,
            "margin": null,
            "max_height": null,
            "max_width": null,
            "min_height": null,
            "min_width": null,
            "object_fit": null,
            "object_position": null,
            "order": null,
            "overflow": null,
            "overflow_x": null,
            "overflow_y": null,
            "padding": null,
            "right": null,
            "top": null,
            "visibility": null,
            "width": null
          }
        },
        "6350ac3a30b14f57b4bf3a1345fcda02": {
          "model_module": "@jupyter-widgets/controls",
          "model_name": "DescriptionStyleModel",
          "model_module_version": "1.5.0",
          "state": {
            "_model_module": "@jupyter-widgets/controls",
            "_model_module_version": "1.5.0",
            "_model_name": "DescriptionStyleModel",
            "_view_count": null,
            "_view_module": "@jupyter-widgets/base",
            "_view_module_version": "1.2.0",
            "_view_name": "StyleView",
            "description_width": ""
          }
        },
        "40488a625d054754a525f7c01cf21e9b": {
          "model_module": "@jupyter-widgets/base",
          "model_name": "LayoutModel",
          "model_module_version": "1.2.0",
          "state": {
            "_model_module": "@jupyter-widgets/base",
            "_model_module_version": "1.2.0",
            "_model_name": "LayoutModel",
            "_view_count": null,
            "_view_module": "@jupyter-widgets/base",
            "_view_module_version": "1.2.0",
            "_view_name": "LayoutView",
            "align_content": null,
            "align_items": null,
            "align_self": null,
            "border": null,
            "bottom": null,
            "display": null,
            "flex": null,
            "flex_flow": null,
            "grid_area": null,
            "grid_auto_columns": null,
            "grid_auto_flow": null,
            "grid_auto_rows": null,
            "grid_column": null,
            "grid_gap": null,
            "grid_row": null,
            "grid_template_areas": null,
            "grid_template_columns": null,
            "grid_template_rows": null,
            "height": null,
            "justify_content": null,
            "justify_items": null,
            "left": null,
            "margin": null,
            "max_height": null,
            "max_width": null,
            "min_height": null,
            "min_width": null,
            "object_fit": null,
            "object_position": null,
            "order": null,
            "overflow": null,
            "overflow_x": null,
            "overflow_y": null,
            "padding": null,
            "right": null,
            "top": null,
            "visibility": null,
            "width": null
          }
        },
        "41fab1897454445a8bcbd62b719b3df1": {
          "model_module": "@jupyter-widgets/controls",
          "model_name": "SliderStyleModel",
          "model_module_version": "1.5.0",
          "state": {
            "_model_module": "@jupyter-widgets/controls",
            "_model_module_version": "1.5.0",
            "_model_name": "SliderStyleModel",
            "_view_count": null,
            "_view_module": "@jupyter-widgets/base",
            "_view_module_version": "1.2.0",
            "_view_name": "StyleView",
            "description_width": "",
            "handle_color": null
          }
        },
        "c27d79bba7e8434b8bdb53324267576d": {
          "model_module": "@jupyter-widgets/controls",
          "model_name": "PlayModel",
          "model_module_version": "1.5.0",
          "state": {
            "_dom_classes": [],
            "_model_module": "@jupyter-widgets/controls",
            "_model_module_version": "1.5.0",
            "_model_name": "PlayModel",
            "_playing": false,
            "_repeat": false,
            "_view_count": null,
            "_view_module": "@jupyter-widgets/controls",
            "_view_module_version": "1.5.0",
            "_view_name": "PlayView",
            "description": "",
            "description_tooltip": null,
            "disabled": false,
            "interval": 100,
            "layout": "IPY_MODEL_a284e71b02e4429d8ea2b2e1a350858e",
            "max": 0,
            "min": 0,
            "show_repeat": true,
            "step": 1,
            "style": "IPY_MODEL_6350ac3a30b14f57b4bf3a1345fcda02",
            "value": 0
          }
        },
        "8d7ac1249307457f814eec3137bbb40d": {
          "model_module": "@jupyter-widgets/controls",
          "model_name": "IntSliderModel",
          "model_module_version": "1.5.0",
          "state": {
            "_dom_classes": [],
            "_model_module": "@jupyter-widgets/controls",
            "_model_module_version": "1.5.0",
            "_model_name": "IntSliderModel",
            "_view_count": null,
            "_view_module": "@jupyter-widgets/controls",
            "_view_module_version": "1.5.0",
            "_view_name": "IntSliderView",
            "continuous_update": true,
            "description": "",
            "description_tooltip": null,
            "disabled": false,
            "layout": "IPY_MODEL_40488a625d054754a525f7c01cf21e9b",
            "max": 0,
            "min": 0,
            "orientation": "horizontal",
            "readout": true,
            "readout_format": "d",
            "step": 1,
            "style": "IPY_MODEL_41fab1897454445a8bcbd62b719b3df1",
            "value": 0
          }
        },
        "3e733466279f4c4f92aca488b71134f7": {
          "model_module": "@jupyter-widgets/base",
          "model_name": "LayoutModel",
          "model_module_version": "1.2.0",
          "state": {
            "_model_module": "@jupyter-widgets/base",
            "_model_module_version": "1.2.0",
            "_model_name": "LayoutModel",
            "_view_count": null,
            "_view_module": "@jupyter-widgets/base",
            "_view_module_version": "1.2.0",
            "_view_name": "LayoutView",
            "align_content": null,
            "align_items": null,
            "align_self": null,
            "border": null,
            "bottom": null,
            "display": null,
            "flex": null,
            "flex_flow": null,
            "grid_area": null,
            "grid_auto_columns": null,
            "grid_auto_flow": null,
            "grid_auto_rows": null,
            "grid_column": null,
            "grid_gap": null,
            "grid_row": null,
            "grid_template_areas": null,
            "grid_template_columns": null,
            "grid_template_rows": null,
            "height": null,
            "justify_content": null,
            "justify_items": null,
            "left": null,
            "margin": null,
            "max_height": null,
            "max_width": null,
            "min_height": null,
            "min_width": null,
            "object_fit": null,
            "object_position": null,
            "order": null,
            "overflow": null,
            "overflow_x": null,
            "overflow_y": null,
            "padding": null,
            "right": null,
            "top": null,
            "visibility": null,
            "width": "34px"
          }
        },
        "08e62a1ae2bc4adeb8ce613e27dd7870": {
          "model_module": "@jupyter-widgets/controls",
          "model_name": "ButtonStyleModel",
          "model_module_version": "1.5.0",
          "state": {
            "_model_module": "@jupyter-widgets/controls",
            "_model_module_version": "1.5.0",
            "_model_name": "ButtonStyleModel",
            "_view_count": null,
            "_view_module": "@jupyter-widgets/base",
            "_view_module_version": "1.2.0",
            "_view_name": "StyleView",
            "button_color": null,
            "font_weight": ""
          }
        },
        "ab811808a21a450e9c19bcde088ba427": {
          "model_module": "@jupyter-widgets/base",
          "model_name": "LayoutModel",
          "model_module_version": "1.2.0",
          "state": {
            "_model_module": "@jupyter-widgets/base",
            "_model_module_version": "1.2.0",
            "_model_name": "LayoutModel",
            "_view_count": null,
            "_view_module": "@jupyter-widgets/base",
            "_view_module_version": "1.2.0",
            "_view_name": "LayoutView",
            "align_content": null,
            "align_items": null,
            "align_self": null,
            "border": null,
            "bottom": null,
            "display": null,
            "flex": null,
            "flex_flow": null,
            "grid_area": null,
            "grid_auto_columns": null,
            "grid_auto_flow": null,
            "grid_auto_rows": null,
            "grid_column": null,
            "grid_gap": null,
            "grid_row": null,
            "grid_template_areas": null,
            "grid_template_columns": null,
            "grid_template_rows": null,
            "height": null,
            "justify_content": null,
            "justify_items": null,
            "left": null,
            "margin": null,
            "max_height": null,
            "max_width": null,
            "min_height": null,
            "min_width": null,
            "object_fit": null,
            "object_position": null,
            "order": null,
            "overflow": null,
            "overflow_x": null,
            "overflow_y": null,
            "padding": null,
            "right": null,
            "top": null,
            "visibility": null,
            "width": null
          }
        },
        "095e4588b5ca46e2a53a8e65d89ad3f2": {
          "model_module": "@jupyter-widgets/controls",
          "model_name": "PlayModel",
          "model_module_version": "1.5.0",
          "state": {
            "_dom_classes": [],
            "_model_module": "@jupyter-widgets/controls",
            "_model_module_version": "1.5.0",
            "_model_name": "PlayModel",
            "_playing": false,
            "_repeat": false,
            "_view_count": null,
            "_view_module": "@jupyter-widgets/controls",
            "_view_module_version": "1.5.0",
            "_view_name": "PlayView",
            "description": "",
            "description_tooltip": null,
            "disabled": false,
            "interval": 100,
            "layout": "IPY_MODEL_b945c0baac294c288b105932467513ad",
            "max": 0,
            "min": 0,
            "show_repeat": true,
            "step": 1,
            "style": "IPY_MODEL_ea439418193b4d9c8b36adf73ef91dc1",
            "value": 0
          }
        },
        "ab03bc8e5bc84d659660fd090d6a74f4": {
          "model_module": "@jupyter-widgets/controls",
          "model_name": "IntSliderModel",
          "model_module_version": "1.5.0",
          "state": {
            "_dom_classes": [],
            "_model_module": "@jupyter-widgets/controls",
            "_model_module_version": "1.5.0",
            "_model_name": "IntSliderModel",
            "_view_count": null,
            "_view_module": "@jupyter-widgets/controls",
            "_view_module_version": "1.5.0",
            "_view_name": "IntSliderView",
            "continuous_update": true,
            "description": "",
            "description_tooltip": null,
            "disabled": false,
            "layout": "IPY_MODEL_f7f53b4a38424ea9be0eb4ba91e9d684",
            "max": 0,
            "min": 0,
            "orientation": "horizontal",
            "readout": true,
            "readout_format": "d",
            "step": 1,
            "style": "IPY_MODEL_b47ab5c021664da598a1b321cec79e4f",
            "value": 0
          }
        },
        "46393020476447329e1a702df4533fd9": {
          "model_module": "nglview-js-widgets",
          "model_name": "NGLModel",
          "model_module_version": "3.0.1",
          "state": {
            "_camera_orientation": [
              79.60341216379405,
              0.12608244072465458,
              13.30928934694933,
              0,
              -5.717878249261904,
              73.2021179689325,
              33.505404056818804,
              0,
              -12.019107622003366,
              -33.98956216108464,
              72.20877387056352,
              0,
              -0.998499870300293,
              7.511499881744385,
              0.9945001602172852,
              1
            ],
            "_camera_str": "orthographic",
            "_dom_classes": [],
            "_gui_theme": null,
            "_ibtn_fullscreen": "IPY_MODEL_85efea4550c54d418bf709fb54881a1c",
            "_igui": null,
            "_iplayer": "IPY_MODEL_0d1fa76f492445889f0d9fbaa914801d",
            "_model_module": "nglview-js-widgets",
            "_model_module_version": "3.0.1",
            "_model_name": "NGLModel",
            "_ngl_color_dict": {},
            "_ngl_coordinate_resource": {},
            "_ngl_full_stage_parameters": {
              "impostor": true,
              "quality": "medium",
              "workerDefault": true,
              "sampleLevel": 0,
              "backgroundColor": "white",
              "rotateSpeed": 2,
              "zoomSpeed": 1.2,
              "panSpeed": 1,
              "clipNear": 0,
              "clipFar": 100,
              "clipDist": 0,
              "fogNear": 50,
              "fogFar": 100,
              "cameraFov": 40,
              "cameraEyeSep": 0.3,
              "cameraType": "orthographic",
              "lightColor": 14540253,
              "lightIntensity": 1,
              "ambientColor": 14540253,
              "ambientIntensity": 0.2,
              "hoverTimeout": 0,
              "tooltip": true,
              "mousePreset": "default"
            },
            "_ngl_msg_archive": [
              {
                "target": "Stage",
                "type": "call_method",
                "methodName": "loadFile",
                "reconstruc_color_scheme": false,
                "args": [
                  {
                    "type": "blob",
                    "data": "MODEL     1\nATOM      1    C MOL     1       0.000   0.000   0.000  1.00  0.00           C  \nATOM      2    C MOL     1      -8.430  -2.499 -15.541  1.00  0.00           C  \nATOM      3    O MOL     1       3.156  -1.007  23.619  1.00  0.00           O  \nATOM      4    N MOL     1      -8.811 -17.743 -10.011  1.00  0.00           N  \nATOM      5    C MOL     1      -3.962  -0.802  -7.502  1.00  0.00           C  \nATOM      6    C MOL     1      -8.187 -28.622 -25.608  1.00  0.00           C  \nATOM      7    C MOL     1       5.809 -28.088  16.125  1.00  0.00           C  \nATOM      8    O MOL     1      -0.570  11.454   6.181  1.00  0.00           O  \nATOM      9    N MOL     1       2.967  13.599  17.711  1.00  0.00           N  \nATOM     10    C MOL     1      10.808 -12.752   5.838  1.00  0.00           C  \nENDMDL\n",
                    "binary": false
                  }
                ],
                "kwargs": {
                  "defaultRepresentation": false,
                  "ext": "pdb"
                }
              },
              {
                "target": "Widget",
                "type": "call_method",
                "methodName": "setSize",
                "reconstruc_color_scheme": false,
                "args": [
                  "500px",
                  "500px"
                ],
                "kwargs": {}
              },
              {
                "component_index": 0,
                "target": "compList",
                "type": "call_method",
                "methodName": "addRepresentation",
                "reconstruc_color_scheme": false,
                "args": [
                  "unitcell"
                ],
                "kwargs": {
                  "sele": "all"
                }
              },
              {
                "component_index": 0,
                "target": "compList",
                "type": "call_method",
                "methodName": "addRepresentation",
                "reconstruc_color_scheme": false,
                "args": [
                  "spacefill"
                ],
                "kwargs": {
                  "sele": "all"
                }
              },
              {
                "target": "Stage",
                "type": "call_method",
                "methodName": "setParameters",
                "reconstruc_color_scheme": false,
                "args": [],
                "kwargs": {
                  "cameraType": "orthographic"
                }
              },
              {
                "target": "Widget",
                "type": "call_method",
                "methodName": "setParameters",
                "reconstruc_color_scheme": false,
                "args": [
                  {
                    "clipDist": 0
                  }
                ],
                "kwargs": {}
              },
              {
                "target": "Widget",
                "type": "call_method",
                "methodName": "updateRepresentationsByName",
                "reconstruc_color_scheme": false,
                "args": [
                  "spacefill",
                  0
                ],
                "kwargs": {
                  "radiusType": "covalent",
                  "radiusScale": 0.5,
                  "colorScheme": "element",
                  "colorScale": "rainbow"
                }
              },
              {
                "target": "Widget",
                "type": "call_method",
                "methodName": "updateRepresentationsByName",
                "reconstruc_color_scheme": false,
                "args": [
                  "spacefill",
                  0
                ],
                "kwargs": {
                  "radiusType": "covalent",
                  "radiusScale": 0.5,
                  "colorScheme": "element",
                  "colorScale": "rainbow"
                }
              },
              {
                "target": "Widget",
                "type": "call_method",
                "methodName": "updateRepresentationsByName",
                "reconstruc_color_scheme": false,
                "args": [
                  "spacefill",
                  0
                ],
                "kwargs": {
                  "radiusType": "covalent",
                  "radiusScale": 0.49999999999999994,
                  "colorScheme": "element",
                  "colorScale": "rainbow"
                }
              },
              {
                "target": "Widget",
                "type": "call_method",
                "methodName": "updateRepresentationsByName",
                "reconstruc_color_scheme": false,
                "args": [
                  "spacefill",
                  0
                ],
                "kwargs": {
                  "radiusType": "covalent",
                  "radiusScale": 0.49999999999999994,
                  "colorScheme": "element",
                  "colorScale": "rainbow"
                }
              }
            ],
            "_ngl_original_stage_parameters": {
              "impostor": true,
              "quality": "medium",
              "workerDefault": true,
              "sampleLevel": 0,
              "backgroundColor": "white",
              "rotateSpeed": 2,
              "zoomSpeed": 1.2,
              "panSpeed": 1,
              "clipNear": 0,
              "clipFar": 100,
              "clipDist": 10,
              "fogNear": 50,
              "fogFar": 100,
              "cameraFov": 40,
              "cameraEyeSep": 0.3,
              "cameraType": "perspective",
              "lightColor": 14540253,
              "lightIntensity": 1,
              "ambientColor": 14540253,
              "ambientIntensity": 0.2,
              "hoverTimeout": 0,
              "tooltip": true,
              "mousePreset": "default"
            },
            "_ngl_repr_dict": {
              "0": {
                "0": {
                  "type": "unitcell",
                  "params": {
                    "lazy": false,
                    "visible": true,
                    "quality": "medium",
                    "radiusSize": 0.5,
                    "sphereDetail": 1,
                    "radialSegments": 10,
                    "disableImpostor": false,
                    "radiusType": "vdw",
                    "radiusData": {},
                    "radiusScale": 1,
                    "defaultAssembly": "",
                    "clipNear": 0,
                    "clipRadius": 0,
                    "clipCenter": {
                      "x": 0,
                      "y": 0,
                      "z": 0
                    },
                    "flatShaded": false,
                    "opacity": 1,
                    "depthWrite": true,
                    "side": "double",
                    "wireframe": false,
                    "colorScheme": "element",
                    "colorScale": "",
                    "colorReverse": false,
                    "colorValue": "orange",
                    "colorMode": "hcl",
                    "roughness": 0.4,
                    "metalness": 0,
                    "diffuse": 16777215,
                    "diffuseInterior": false,
                    "useInteriorColor": true,
                    "interiorColor": 2236962,
                    "interiorDarkening": 0,
                    "matrix": {
                      "elements": [
                        1,
                        0,
                        0,
                        0,
                        0,
                        1,
                        0,
                        0,
                        0,
                        0,
                        1,
                        0,
                        0,
                        0,
                        0,
                        1
                      ]
                    },
                    "disablePicking": false,
                    "sele": "all"
                  }
                },
                "1": {
                  "type": "unitcell",
                  "params": {
                    "lazy": false,
                    "visible": true,
                    "quality": "medium",
                    "radiusSize": 0.5,
                    "sphereDetail": 1,
                    "radialSegments": 10,
                    "disableImpostor": false,
                    "radiusType": "vdw",
                    "radiusData": {},
                    "radiusScale": 1,
                    "defaultAssembly": "",
                    "clipNear": 0,
                    "clipRadius": 0,
                    "clipCenter": {
                      "x": 0,
                      "y": 0,
                      "z": 0
                    },
                    "flatShaded": false,
                    "opacity": 1,
                    "depthWrite": true,
                    "side": "double",
                    "wireframe": false,
                    "colorScheme": "element",
                    "colorScale": "",
                    "colorReverse": false,
                    "colorValue": "orange",
                    "colorMode": "hcl",
                    "roughness": 0.4,
                    "metalness": 0,
                    "diffuse": 16777215,
                    "diffuseInterior": false,
                    "useInteriorColor": true,
                    "interiorColor": 2236962,
                    "interiorDarkening": 0,
                    "matrix": {
                      "elements": [
                        1,
                        0,
                        0,
                        0,
                        0,
                        1,
                        0,
                        0,
                        0,
                        0,
                        1,
                        0,
                        0,
                        0,
                        0,
                        1
                      ]
                    },
                    "disablePicking": false,
                    "sele": "all"
                  }
                },
                "2": {
                  "type": "spacefill",
                  "params": {
                    "lazy": false,
                    "visible": true,
                    "quality": "medium",
                    "sphereDetail": 1,
                    "disableImpostor": false,
                    "radiusType": "covalent",
                    "radiusData": {},
                    "radiusSize": 1,
                    "radiusScale": 0.5,
                    "assembly": "default",
                    "defaultAssembly": "",
                    "clipNear": 0,
                    "clipRadius": 0,
                    "clipCenter": {
                      "x": 0,
                      "y": 0,
                      "z": 0
                    },
                    "flatShaded": false,
                    "opacity": 1,
                    "depthWrite": true,
                    "side": "double",
                    "wireframe": false,
                    "colorScheme": "element",
                    "colorScale": "rainbow",
                    "colorReverse": false,
                    "colorValue": 9474192,
                    "colorMode": "hcl",
                    "roughness": 0.4,
                    "metalness": 0,
                    "diffuse": 16777215,
                    "diffuseInterior": false,
                    "useInteriorColor": true,
                    "interiorColor": 2236962,
                    "interiorDarkening": 0,
                    "matrix": {
                      "elements": [
                        1,
                        0,
                        0,
                        0,
                        0,
                        1,
                        0,
                        0,
                        0,
                        0,
                        1,
                        0,
                        0,
                        0,
                        0,
                        1
                      ]
                    },
                    "disablePicking": false,
                    "sele": "all"
                  }
                },
                "3": {
                  "type": "spacefill",
                  "params": {
                    "lazy": false,
                    "visible": true,
                    "quality": "medium",
                    "sphereDetail": 1,
                    "disableImpostor": false,
                    "radiusType": "covalent",
                    "radiusData": {},
                    "radiusSize": 1,
                    "radiusScale": 0.5,
                    "assembly": "default",
                    "defaultAssembly": "",
                    "clipNear": 0,
                    "clipRadius": 0,
                    "clipCenter": {
                      "x": 0,
                      "y": 0,
                      "z": 0
                    },
                    "flatShaded": false,
                    "opacity": 1,
                    "depthWrite": true,
                    "side": "double",
                    "wireframe": false,
                    "colorScheme": "element",
                    "colorScale": "rainbow",
                    "colorReverse": false,
                    "colorValue": 9474192,
                    "colorMode": "hcl",
                    "roughness": 0.4,
                    "metalness": 0,
                    "diffuse": 16777215,
                    "diffuseInterior": false,
                    "useInteriorColor": true,
                    "interiorColor": 2236962,
                    "interiorDarkening": 0,
                    "matrix": {
                      "elements": [
                        1,
                        0,
                        0,
                        0,
                        0,
                        1,
                        0,
                        0,
                        0,
                        0,
                        1,
                        0,
                        0,
                        0,
                        0,
                        1
                      ]
                    },
                    "disablePicking": false,
                    "sele": "all"
                  }
                }
              },
              "1": {}
            },
            "_ngl_serialize": false,
            "_ngl_version": "2.0.0-dev.36",
            "_ngl_view_id": [
              "E0DB11FF-FC62-41A9-81C4-CF2A16A885A9"
            ],
            "_player_dict": {},
            "_scene_position": {},
            "_scene_rotation": {},
            "_synced_model_ids": [],
            "_synced_repr_model_ids": [],
            "_view_count": null,
            "_view_height": "",
            "_view_module": "nglview-js-widgets",
            "_view_module_version": "3.0.1",
            "_view_name": "NGLView",
            "_view_width": "",
            "background": "white",
            "frame": 0,
            "gui_style": null,
            "layout": "IPY_MODEL_fc7ed506efea46b9944dce63a19276f8",
            "max_frame": 0,
            "n_components": 2,
            "picked": {}
          }
        },
        "b945c0baac294c288b105932467513ad": {
          "model_module": "@jupyter-widgets/base",
          "model_name": "LayoutModel",
          "model_module_version": "1.2.0",
          "state": {
            "_model_module": "@jupyter-widgets/base",
            "_model_module_version": "1.2.0",
            "_model_name": "LayoutModel",
            "_view_count": null,
            "_view_module": "@jupyter-widgets/base",
            "_view_module_version": "1.2.0",
            "_view_name": "LayoutView",
            "align_content": null,
            "align_items": null,
            "align_self": null,
            "border": null,
            "bottom": null,
            "display": null,
            "flex": null,
            "flex_flow": null,
            "grid_area": null,
            "grid_auto_columns": null,
            "grid_auto_flow": null,
            "grid_auto_rows": null,
            "grid_column": null,
            "grid_gap": null,
            "grid_row": null,
            "grid_template_areas": null,
            "grid_template_columns": null,
            "grid_template_rows": null,
            "height": null,
            "justify_content": null,
            "justify_items": null,
            "left": null,
            "margin": null,
            "max_height": null,
            "max_width": null,
            "min_height": null,
            "min_width": null,
            "object_fit": null,
            "object_position": null,
            "order": null,
            "overflow": null,
            "overflow_x": null,
            "overflow_y": null,
            "padding": null,
            "right": null,
            "top": null,
            "visibility": null,
            "width": null
          }
        },
        "ea439418193b4d9c8b36adf73ef91dc1": {
          "model_module": "@jupyter-widgets/controls",
          "model_name": "DescriptionStyleModel",
          "model_module_version": "1.5.0",
          "state": {
            "_model_module": "@jupyter-widgets/controls",
            "_model_module_version": "1.5.0",
            "_model_name": "DescriptionStyleModel",
            "_view_count": null,
            "_view_module": "@jupyter-widgets/base",
            "_view_module_version": "1.2.0",
            "_view_name": "StyleView",
            "description_width": ""
          }
        },
        "ee9a8b094809496798c1077a39bfccb0": {
          "model_module": "@jupyter-widgets/controls",
          "model_name": "HBoxModel",
          "model_module_version": "1.5.0",
          "state": {
            "_dom_classes": [],
            "_model_module": "@jupyter-widgets/controls",
            "_model_module_version": "1.5.0",
            "_model_name": "HBoxModel",
            "_view_count": null,
            "_view_module": "@jupyter-widgets/controls",
            "_view_module_version": "1.5.0",
            "_view_name": "HBoxView",
            "box_style": "",
            "children": [
              "IPY_MODEL_46393020476447329e1a702df4533fd9",
              "IPY_MODEL_d0cf641f96a64cd19215cefdef28d9d1"
            ],
            "layout": "IPY_MODEL_5560750ecb4b4170bde4a90b9d9dbad7"
          }
        },
        "f7f53b4a38424ea9be0eb4ba91e9d684": {
          "model_module": "@jupyter-widgets/base",
          "model_name": "LayoutModel",
          "model_module_version": "1.2.0",
          "state": {
            "_model_module": "@jupyter-widgets/base",
            "_model_module_version": "1.2.0",
            "_model_name": "LayoutModel",
            "_view_count": null,
            "_view_module": "@jupyter-widgets/base",
            "_view_module_version": "1.2.0",
            "_view_name": "LayoutView",
            "align_content": null,
            "align_items": null,
            "align_self": null,
            "border": null,
            "bottom": null,
            "display": null,
            "flex": null,
            "flex_flow": null,
            "grid_area": null,
            "grid_auto_columns": null,
            "grid_auto_flow": null,
            "grid_auto_rows": null,
            "grid_column": null,
            "grid_gap": null,
            "grid_row": null,
            "grid_template_areas": null,
            "grid_template_columns": null,
            "grid_template_rows": null,
            "height": null,
            "justify_content": null,
            "justify_items": null,
            "left": null,
            "margin": null,
            "max_height": null,
            "max_width": null,
            "min_height": null,
            "min_width": null,
            "object_fit": null,
            "object_position": null,
            "order": null,
            "overflow": null,
            "overflow_x": null,
            "overflow_y": null,
            "padding": null,
            "right": null,
            "top": null,
            "visibility": null,
            "width": null
          }
        },
        "b47ab5c021664da598a1b321cec79e4f": {
          "model_module": "@jupyter-widgets/controls",
          "model_name": "SliderStyleModel",
          "model_module_version": "1.5.0",
          "state": {
            "_model_module": "@jupyter-widgets/controls",
            "_model_module_version": "1.5.0",
            "_model_name": "SliderStyleModel",
            "_view_count": null,
            "_view_module": "@jupyter-widgets/base",
            "_view_module_version": "1.2.0",
            "_view_name": "StyleView",
            "description_width": "",
            "handle_color": null
          }
        },
        "d0cf641f96a64cd19215cefdef28d9d1": {
          "model_module": "@jupyter-widgets/controls",
          "model_name": "VBoxModel",
          "model_module_version": "1.5.0",
          "state": {
            "_dom_classes": [],
            "_model_module": "@jupyter-widgets/controls",
            "_model_module_version": "1.5.0",
            "_model_name": "VBoxModel",
            "_view_count": null,
            "_view_module": "@jupyter-widgets/controls",
            "_view_module_version": "1.5.0",
            "_view_name": "VBoxView",
            "box_style": "",
            "children": [
              "IPY_MODEL_556f7ed918874b21a0e923e7ba914e1d",
              "IPY_MODEL_82455c4d6a6149d9a9eaeb1ed58b0f7a",
              "IPY_MODEL_0ef79640d6e24254908221264b4d3bde"
            ],
            "layout": "IPY_MODEL_483b97e2c00142a993b76ac98a183437"
          }
        },
        "5560750ecb4b4170bde4a90b9d9dbad7": {
          "model_module": "@jupyter-widgets/base",
          "model_name": "LayoutModel",
          "model_module_version": "1.2.0",
          "state": {
            "_model_module": "@jupyter-widgets/base",
            "_model_module_version": "1.2.0",
            "_model_name": "LayoutModel",
            "_view_count": null,
            "_view_module": "@jupyter-widgets/base",
            "_view_module_version": "1.2.0",
            "_view_name": "LayoutView",
            "align_content": null,
            "align_items": null,
            "align_self": null,
            "border": null,
            "bottom": null,
            "display": null,
            "flex": null,
            "flex_flow": null,
            "grid_area": null,
            "grid_auto_columns": null,
            "grid_auto_flow": null,
            "grid_auto_rows": null,
            "grid_column": null,
            "grid_gap": null,
            "grid_row": null,
            "grid_template_areas": null,
            "grid_template_columns": null,
            "grid_template_rows": null,
            "height": null,
            "justify_content": null,
            "justify_items": null,
            "left": null,
            "margin": null,
            "max_height": null,
            "max_width": null,
            "min_height": null,
            "min_width": null,
            "object_fit": null,
            "object_position": null,
            "order": null,
            "overflow": null,
            "overflow_x": null,
            "overflow_y": null,
            "padding": null,
            "right": null,
            "top": null,
            "visibility": null,
            "width": null
          }
        },
        "556f7ed918874b21a0e923e7ba914e1d": {
          "model_module": "@jupyter-widgets/controls",
          "model_name": "DropdownModel",
          "model_module_version": "1.5.0",
          "state": {
            "_dom_classes": [],
            "_model_module": "@jupyter-widgets/controls",
            "_model_module_version": "1.5.0",
            "_model_name": "DropdownModel",
            "_options_labels": [
              "All",
              "C",
              "O",
              "N"
            ],
            "_view_count": null,
            "_view_module": "@jupyter-widgets/controls",
            "_view_module_version": "1.5.0",
            "_view_name": "DropdownView",
            "description": "Show",
            "description_tooltip": null,
            "disabled": false,
            "index": 0,
            "layout": "IPY_MODEL_e1d630797f54444d909109422cdbfab7",
            "style": "IPY_MODEL_4ab13b3de7aa49d995afd6baa22085df"
          }
        },
        "82455c4d6a6149d9a9eaeb1ed58b0f7a": {
          "model_module": "@jupyter-widgets/controls",
          "model_name": "DropdownModel",
          "model_module_version": "1.5.0",
          "state": {
            "_dom_classes": [],
            "_model_module": "@jupyter-widgets/controls",
            "_model_module_version": "1.5.0",
            "_model_name": "DropdownModel",
            "_options_labels": [
              " ",
              "picking",
              "random",
              "uniform",
              "atomindex",
              "residueindex",
              "chainindex",
              "modelindex",
              "sstruc",
              "element",
              "resname",
              "bfactor",
              "hydrophobicity",
              "value",
              "volume",
              "occupancy"
            ],
            "_view_count": null,
            "_view_module": "@jupyter-widgets/controls",
            "_view_module_version": "1.5.0",
            "_view_name": "DropdownView",
            "description": "Color scheme",
            "description_tooltip": null,
            "disabled": false,
            "index": 9,
            "layout": "IPY_MODEL_bc5ba340f9814e5ea7788c60e4c8fe5c",
            "style": "IPY_MODEL_db803cd19fd64705a8ae1343587d78df"
          }
        },
        "0ef79640d6e24254908221264b4d3bde": {
          "model_module": "@jupyter-widgets/controls",
          "model_name": "FloatSliderModel",
          "model_module_version": "1.5.0",
          "state": {
            "_dom_classes": [],
            "_model_module": "@jupyter-widgets/controls",
            "_model_module_version": "1.5.0",
            "_model_name": "FloatSliderModel",
            "_view_count": null,
            "_view_module": "@jupyter-widgets/controls",
            "_view_module_version": "1.5.0",
            "_view_name": "FloatSliderView",
            "continuous_update": true,
            "description": "Ball size",
            "description_tooltip": null,
            "disabled": false,
            "layout": "IPY_MODEL_52bcd2dba64645d7b792352aa3f753af",
            "max": 1.5,
            "min": 0,
            "orientation": "horizontal",
            "readout": true,
            "readout_format": ".2f",
            "step": 0.01,
            "style": "IPY_MODEL_4fff3a07279d4f619cba2e95cc24c888",
            "value": 0.49999999999999994
          }
        },
        "483b97e2c00142a993b76ac98a183437": {
          "model_module": "@jupyter-widgets/base",
          "model_name": "LayoutModel",
          "model_module_version": "1.2.0",
          "state": {
            "_model_module": "@jupyter-widgets/base",
            "_model_module_version": "1.2.0",
            "_model_name": "LayoutModel",
            "_view_count": null,
            "_view_module": "@jupyter-widgets/base",
            "_view_module_version": "1.2.0",
            "_view_name": "LayoutView",
            "align_content": null,
            "align_items": null,
            "align_self": null,
            "border": null,
            "bottom": null,
            "display": null,
            "flex": null,
            "flex_flow": null,
            "grid_area": null,
            "grid_auto_columns": null,
            "grid_auto_flow": null,
            "grid_auto_rows": null,
            "grid_column": null,
            "grid_gap": null,
            "grid_row": null,
            "grid_template_areas": null,
            "grid_template_columns": null,
            "grid_template_rows": null,
            "height": null,
            "justify_content": null,
            "justify_items": null,
            "left": null,
            "margin": null,
            "max_height": null,
            "max_width": null,
            "min_height": null,
            "min_width": null,
            "object_fit": null,
            "object_position": null,
            "order": null,
            "overflow": null,
            "overflow_x": null,
            "overflow_y": null,
            "padding": null,
            "right": null,
            "top": null,
            "visibility": null,
            "width": null
          }
        },
        "e1d630797f54444d909109422cdbfab7": {
          "model_module": "@jupyter-widgets/base",
          "model_name": "LayoutModel",
          "model_module_version": "1.2.0",
          "state": {
            "_model_module": "@jupyter-widgets/base",
            "_model_module_version": "1.2.0",
            "_model_name": "LayoutModel",
            "_view_count": null,
            "_view_module": "@jupyter-widgets/base",
            "_view_module_version": "1.2.0",
            "_view_name": "LayoutView",
            "align_content": null,
            "align_items": null,
            "align_self": null,
            "border": null,
            "bottom": null,
            "display": null,
            "flex": null,
            "flex_flow": null,
            "grid_area": null,
            "grid_auto_columns": null,
            "grid_auto_flow": null,
            "grid_auto_rows": null,
            "grid_column": null,
            "grid_gap": null,
            "grid_row": null,
            "grid_template_areas": null,
            "grid_template_columns": null,
            "grid_template_rows": null,
            "height": null,
            "justify_content": null,
            "justify_items": null,
            "left": null,
            "margin": null,
            "max_height": null,
            "max_width": null,
            "min_height": null,
            "min_width": null,
            "object_fit": null,
            "object_position": null,
            "order": null,
            "overflow": null,
            "overflow_x": null,
            "overflow_y": null,
            "padding": null,
            "right": null,
            "top": null,
            "visibility": null,
            "width": null
          }
        },
        "4ab13b3de7aa49d995afd6baa22085df": {
          "model_module": "@jupyter-widgets/controls",
          "model_name": "DescriptionStyleModel",
          "model_module_version": "1.5.0",
          "state": {
            "_model_module": "@jupyter-widgets/controls",
            "_model_module_version": "1.5.0",
            "_model_name": "DescriptionStyleModel",
            "_view_count": null,
            "_view_module": "@jupyter-widgets/base",
            "_view_module_version": "1.2.0",
            "_view_name": "StyleView",
            "description_width": ""
          }
        },
        "bc5ba340f9814e5ea7788c60e4c8fe5c": {
          "model_module": "@jupyter-widgets/base",
          "model_name": "LayoutModel",
          "model_module_version": "1.2.0",
          "state": {
            "_model_module": "@jupyter-widgets/base",
            "_model_module_version": "1.2.0",
            "_model_name": "LayoutModel",
            "_view_count": null,
            "_view_module": "@jupyter-widgets/base",
            "_view_module_version": "1.2.0",
            "_view_name": "LayoutView",
            "align_content": null,
            "align_items": null,
            "align_self": null,
            "border": null,
            "bottom": null,
            "display": null,
            "flex": null,
            "flex_flow": null,
            "grid_area": null,
            "grid_auto_columns": null,
            "grid_auto_flow": null,
            "grid_auto_rows": null,
            "grid_column": null,
            "grid_gap": null,
            "grid_row": null,
            "grid_template_areas": null,
            "grid_template_columns": null,
            "grid_template_rows": null,
            "height": null,
            "justify_content": null,
            "justify_items": null,
            "left": null,
            "margin": null,
            "max_height": null,
            "max_width": null,
            "min_height": null,
            "min_width": null,
            "object_fit": null,
            "object_position": null,
            "order": null,
            "overflow": null,
            "overflow_x": null,
            "overflow_y": null,
            "padding": null,
            "right": null,
            "top": null,
            "visibility": null,
            "width": null
          }
        },
        "db803cd19fd64705a8ae1343587d78df": {
          "model_module": "@jupyter-widgets/controls",
          "model_name": "DescriptionStyleModel",
          "model_module_version": "1.5.0",
          "state": {
            "_model_module": "@jupyter-widgets/controls",
            "_model_module_version": "1.5.0",
            "_model_name": "DescriptionStyleModel",
            "_view_count": null,
            "_view_module": "@jupyter-widgets/base",
            "_view_module_version": "1.2.0",
            "_view_name": "StyleView",
            "description_width": ""
          }
        },
        "52bcd2dba64645d7b792352aa3f753af": {
          "model_module": "@jupyter-widgets/base",
          "model_name": "LayoutModel",
          "model_module_version": "1.2.0",
          "state": {
            "_model_module": "@jupyter-widgets/base",
            "_model_module_version": "1.2.0",
            "_model_name": "LayoutModel",
            "_view_count": null,
            "_view_module": "@jupyter-widgets/base",
            "_view_module_version": "1.2.0",
            "_view_name": "LayoutView",
            "align_content": null,
            "align_items": null,
            "align_self": null,
            "border": null,
            "bottom": null,
            "display": null,
            "flex": null,
            "flex_flow": null,
            "grid_area": null,
            "grid_auto_columns": null,
            "grid_auto_flow": null,
            "grid_auto_rows": null,
            "grid_column": null,
            "grid_gap": null,
            "grid_row": null,
            "grid_template_areas": null,
            "grid_template_columns": null,
            "grid_template_rows": null,
            "height": null,
            "justify_content": null,
            "justify_items": null,
            "left": null,
            "margin": null,
            "max_height": null,
            "max_width": null,
            "min_height": null,
            "min_width": null,
            "object_fit": null,
            "object_position": null,
            "order": null,
            "overflow": null,
            "overflow_x": null,
            "overflow_y": null,
            "padding": null,
            "right": null,
            "top": null,
            "visibility": null,
            "width": null
          }
        },
        "4fff3a07279d4f619cba2e95cc24c888": {
          "model_module": "@jupyter-widgets/controls",
          "model_name": "SliderStyleModel",
          "model_module_version": "1.5.0",
          "state": {
            "_model_module": "@jupyter-widgets/controls",
            "_model_module_version": "1.5.0",
            "_model_name": "SliderStyleModel",
            "_view_count": null,
            "_view_module": "@jupyter-widgets/base",
            "_view_module_version": "1.2.0",
            "_view_name": "StyleView",
            "description_width": "",
            "handle_color": null
          }
        },
        "fc7ed506efea46b9944dce63a19276f8": {
          "model_module": "@jupyter-widgets/base",
          "model_name": "LayoutModel",
          "model_module_version": "1.2.0",
          "state": {
            "_model_module": "@jupyter-widgets/base",
            "_model_module_version": "1.2.0",
            "_model_name": "LayoutModel",
            "_view_count": null,
            "_view_module": "@jupyter-widgets/base",
            "_view_module_version": "1.2.0",
            "_view_name": "LayoutView",
            "align_content": null,
            "align_items": null,
            "align_self": null,
            "border": null,
            "bottom": null,
            "display": null,
            "flex": null,
            "flex_flow": null,
            "grid_area": null,
            "grid_auto_columns": null,
            "grid_auto_flow": null,
            "grid_auto_rows": null,
            "grid_column": null,
            "grid_gap": null,
            "grid_row": null,
            "grid_template_areas": null,
            "grid_template_columns": null,
            "grid_template_rows": null,
            "height": null,
            "justify_content": null,
            "justify_items": null,
            "left": null,
            "margin": null,
            "max_height": null,
            "max_width": null,
            "min_height": null,
            "min_width": null,
            "object_fit": null,
            "object_position": null,
            "order": null,
            "overflow": null,
            "overflow_x": null,
            "overflow_y": null,
            "padding": null,
            "right": null,
            "top": null,
            "visibility": null,
            "width": null
          }
        },
        "85efea4550c54d418bf709fb54881a1c": {
          "model_module": "@jupyter-widgets/controls",
          "model_name": "ButtonModel",
          "model_module_version": "1.5.0",
          "state": {
            "_dom_classes": [],
            "_model_module": "@jupyter-widgets/controls",
            "_model_module_version": "1.5.0",
            "_model_name": "ButtonModel",
            "_view_count": null,
            "_view_module": "@jupyter-widgets/controls",
            "_view_module_version": "1.5.0",
            "_view_name": "ButtonView",
            "button_style": "",
            "description": "",
            "disabled": false,
            "icon": "compress",
            "layout": "IPY_MODEL_b77ce8e300b344509bf102914aadb1b0",
            "style": "IPY_MODEL_a5b319b2e08d47b28761948c98d1b966",
            "tooltip": ""
          }
        },
        "0d1fa76f492445889f0d9fbaa914801d": {
          "model_module": "@jupyter-widgets/controls",
          "model_name": "HBoxModel",
          "model_module_version": "1.5.0",
          "state": {
            "_dom_classes": [],
            "_model_module": "@jupyter-widgets/controls",
            "_model_module_version": "1.5.0",
            "_model_name": "HBoxModel",
            "_view_count": null,
            "_view_module": "@jupyter-widgets/controls",
            "_view_module_version": "1.5.0",
            "_view_name": "HBoxView",
            "box_style": "",
            "children": [
              "IPY_MODEL_095e4588b5ca46e2a53a8e65d89ad3f2",
              "IPY_MODEL_ab03bc8e5bc84d659660fd090d6a74f4"
            ],
            "layout": "IPY_MODEL_0b0b22de43f24bb5b2c44619b3b1b296"
          }
        },
        "b77ce8e300b344509bf102914aadb1b0": {
          "model_module": "@jupyter-widgets/base",
          "model_name": "LayoutModel",
          "model_module_version": "1.2.0",
          "state": {
            "_model_module": "@jupyter-widgets/base",
            "_model_module_version": "1.2.0",
            "_model_name": "LayoutModel",
            "_view_count": null,
            "_view_module": "@jupyter-widgets/base",
            "_view_module_version": "1.2.0",
            "_view_name": "LayoutView",
            "align_content": null,
            "align_items": null,
            "align_self": null,
            "border": null,
            "bottom": null,
            "display": null,
            "flex": null,
            "flex_flow": null,
            "grid_area": null,
            "grid_auto_columns": null,
            "grid_auto_flow": null,
            "grid_auto_rows": null,
            "grid_column": null,
            "grid_gap": null,
            "grid_row": null,
            "grid_template_areas": null,
            "grid_template_columns": null,
            "grid_template_rows": null,
            "height": null,
            "justify_content": null,
            "justify_items": null,
            "left": null,
            "margin": null,
            "max_height": null,
            "max_width": null,
            "min_height": null,
            "min_width": null,
            "object_fit": null,
            "object_position": null,
            "order": null,
            "overflow": null,
            "overflow_x": null,
            "overflow_y": null,
            "padding": null,
            "right": null,
            "top": null,
            "visibility": null,
            "width": "34px"
          }
        },
        "a5b319b2e08d47b28761948c98d1b966": {
          "model_module": "@jupyter-widgets/controls",
          "model_name": "ButtonStyleModel",
          "model_module_version": "1.5.0",
          "state": {
            "_model_module": "@jupyter-widgets/controls",
            "_model_module_version": "1.5.0",
            "_model_name": "ButtonStyleModel",
            "_view_count": null,
            "_view_module": "@jupyter-widgets/base",
            "_view_module_version": "1.2.0",
            "_view_name": "StyleView",
            "button_color": null,
            "font_weight": ""
          }
        },
        "0b0b22de43f24bb5b2c44619b3b1b296": {
          "model_module": "@jupyter-widgets/base",
          "model_name": "LayoutModel",
          "model_module_version": "1.2.0",
          "state": {
            "_model_module": "@jupyter-widgets/base",
            "_model_module_version": "1.2.0",
            "_model_name": "LayoutModel",
            "_view_count": null,
            "_view_module": "@jupyter-widgets/base",
            "_view_module_version": "1.2.0",
            "_view_name": "LayoutView",
            "align_content": null,
            "align_items": null,
            "align_self": null,
            "border": null,
            "bottom": null,
            "display": null,
            "flex": null,
            "flex_flow": null,
            "grid_area": null,
            "grid_auto_columns": null,
            "grid_auto_flow": null,
            "grid_auto_rows": null,
            "grid_column": null,
            "grid_gap": null,
            "grid_row": null,
            "grid_template_areas": null,
            "grid_template_columns": null,
            "grid_template_rows": null,
            "height": null,
            "justify_content": null,
            "justify_items": null,
            "left": null,
            "margin": null,
            "max_height": null,
            "max_width": null,
            "min_height": null,
            "min_width": null,
            "object_fit": null,
            "object_position": null,
            "order": null,
            "overflow": null,
            "overflow_x": null,
            "overflow_y": null,
            "padding": null,
            "right": null,
            "top": null,
            "visibility": null,
            "width": null
          }
        }
      }
    }
  },
  "cells": [
    {
      "cell_type": "markdown",
      "metadata": {
        "id": "view-in-github",
        "colab_type": "text"
      },
      "source": [
        "<a href=\"https://colab.research.google.com/github/wangleiphy/ml4p/blob/main/projects/alanine_dipeptide.ipynb\" target=\"_parent\"><img src=\"https://colab.research.google.com/assets/colab-badge.svg\" alt=\"Open In Colab\"/></a>"
      ]
    },
    {
      "cell_type": "code",
      "execution_count": null,
      "metadata": {
        "colab": {
          "base_uri": "https://localhost:8080/"
        },
        "id": "w2uG6Y6e8xCe",
        "outputId": "426403c8-3d71-4410-e221-ad3f0aaf402e"
      },
      "outputs": [
        {
          "output_type": "stream",
          "name": "stdout",
          "text": [
            "\u001b[?25l     \u001b[90m━━━━━━━━━━━━━━━━━━━━━━━━━━━━━━━━━━━━━━━━\u001b[0m \u001b[32m0.0/5.7 MB\u001b[0m \u001b[31m?\u001b[0m eta \u001b[36m-:--:--\u001b[0m\r\u001b[2K     \u001b[91m━\u001b[0m\u001b[91m╸\u001b[0m\u001b[90m━━━━━━━━━━━━━━━━━━━━━━━━━━━━━━━━━━━━━━\u001b[0m \u001b[32m0.3/5.7 MB\u001b[0m \u001b[31m7.4 MB/s\u001b[0m eta \u001b[36m0:00:01\u001b[0m\r\u001b[2K     \u001b[91m━━━━━━━━━━━━━━━━━━\u001b[0m\u001b[90m╺\u001b[0m\u001b[90m━━━━━━━━━━━━━━━━━━━━━\u001b[0m \u001b[32m2.6/5.7 MB\u001b[0m \u001b[31m37.7 MB/s\u001b[0m eta \u001b[36m0:00:01\u001b[0m\r\u001b[2K     \u001b[91m━━━━━━━━━━━━━━━━━━━━━━━━━━━━━━━━━━━━━━━\u001b[0m\u001b[91m╸\u001b[0m \u001b[32m5.7/5.7 MB\u001b[0m \u001b[31m65.4 MB/s\u001b[0m eta \u001b[36m0:00:01\u001b[0m\r\u001b[2K     \u001b[90m━━━━━━━━━━━━━━━━━━━━━━━━━━━━━━━━━━━━━━━━\u001b[0m \u001b[32m5.7/5.7 MB\u001b[0m \u001b[31m50.5 MB/s\u001b[0m eta \u001b[36m0:00:00\u001b[0m\n",
            "\u001b[?25h  Installing build dependencies ... \u001b[?25l\u001b[?25hdone\n",
            "  Getting requirements to build wheel ... \u001b[?25l\u001b[?25hdone\n",
            "  Preparing metadata (pyproject.toml) ... \u001b[?25l\u001b[?25hdone\n",
            "\u001b[2K     \u001b[90m━━━━━━━━━━━━━━━━━━━━━━━━━━━━━━━━━━━━━━━━\u001b[0m \u001b[32m1.6/1.6 MB\u001b[0m \u001b[31m78.8 MB/s\u001b[0m eta \u001b[36m0:00:00\u001b[0m\n",
            "\u001b[?25h  Building wheel for nglview (pyproject.toml) ... \u001b[?25l\u001b[?25hdone\n"
          ]
        }
      ],
      "source": [
        "# some necessary packages\n",
        "!pip install -q dm-haiku # neural network library\n",
        "!pip install -q optax     # optimization library\n",
        "!pip install -q nglview   # visualize molecules\n",
        "!pip install -q ase    "
      ]
    },
    {
      "cell_type": "code",
      "source": [
        "from google.colab import output\n",
        "output.enable_custom_widget_manager()"
      ],
      "metadata": {
        "id": "ajjo6QpX9TC_"
      },
      "execution_count": null,
      "outputs": []
    },
    {
      "cell_type": "code",
      "source": [
        "import jax\n",
        "import jax.numpy as jnp\n",
        "import numpy as np\n",
        "import haiku as hk\n",
        "import optax\n",
        "from functools import partial"
      ],
      "metadata": {
        "id": "HY5MGN5EFM6p"
      },
      "execution_count": null,
      "outputs": []
    },
    {
      "cell_type": "markdown",
      "source": [
        "## Data"
      ],
      "metadata": {
        "id": "Hxs4piCJ-dvM"
      }
    },
    {
      "cell_type": "code",
      "source": [
        "!wget http://ftp.imp.fu-berlin.de/pub/cmb-data/alanine-dipeptide-3x250ns-heavy-atom-positions.npz"
      ],
      "metadata": {
        "colab": {
          "base_uri": "https://localhost:8080/"
        },
        "id": "3I5KpXTM9iao",
        "outputId": "edc16315-eea4-49ce-cba3-cfafd39c1ba9"
      },
      "execution_count": null,
      "outputs": [
        {
          "output_type": "stream",
          "name": "stdout",
          "text": [
            "--2023-03-09 13:44:43--  http://ftp.imp.fu-berlin.de/pub/cmb-data/alanine-dipeptide-3x250ns-heavy-atom-positions.npz\n",
            "Resolving ftp.imp.fu-berlin.de (ftp.imp.fu-berlin.de)... 160.45.117.8\n",
            "Connecting to ftp.imp.fu-berlin.de (ftp.imp.fu-berlin.de)|160.45.117.8|:80... connected.\n",
            "HTTP request sent, awaiting response... 200 OK\n",
            "Length: 90000544 (86M)\n",
            "Saving to: ‘alanine-dipeptide-3x250ns-heavy-atom-positions.npz’\n",
            "\n",
            "alanine-dipeptide-3 100%[===================>]  85.83M  14.4MB/s    in 6.6s    \n",
            "\n",
            "2023-03-09 13:44:50 (13.1 MB/s) - ‘alanine-dipeptide-3x250ns-heavy-atom-positions.npz’ saved [90000544/90000544]\n",
            "\n"
          ]
        }
      ]
    },
    {
      "cell_type": "code",
      "source": [
        "data = np.load('/content/alanine-dipeptide-3x250ns-heavy-atom-positions.npz')"
      ],
      "metadata": {
        "id": "tgnebJKC96m5"
      },
      "execution_count": null,
      "outputs": []
    },
    {
      "cell_type": "code",
      "source": [
        "train_data, validation_data, test_data = data['arr_0'], data['arr_1'], data['arr_2']"
      ],
      "metadata": {
        "id": "C0y7v4tL-HIJ"
      },
      "execution_count": null,
      "outputs": []
    },
    {
      "cell_type": "code",
      "source": [
        "train_data.shape"
      ],
      "metadata": {
        "colab": {
          "base_uri": "https://localhost:8080/"
        },
        "id": "GSfBUY1MV9BO",
        "outputId": "a8cac311-2e08-483a-9272-e0a7e985ac62"
      },
      "execution_count": null,
      "outputs": [
        {
          "output_type": "execute_result",
          "data": {
            "text/plain": [
              "(250000, 30)"
            ]
          },
          "metadata": {},
          "execution_count": 83
        }
      ]
    },
    {
      "cell_type": "code",
      "source": [
        "natoms = 10\n",
        "dim = 3\n",
        "train_data = train_data.reshape((-1, natoms, dim))"
      ],
      "metadata": {
        "id": "4qhMvMtH-Imn"
      },
      "execution_count": null,
      "outputs": []
    },
    {
      "cell_type": "code",
      "source": [
        "from ase import Atoms\n",
        "from ase.visualize import view\n",
        "\n",
        "L = 23.222 # box length in Angstrom https://markovmodel.github.io/mdshare/ALA2/#alanine-dipeptide\n",
        "\n",
        "atoms = Atoms('CCONCCCONC', positions=train_data[0]*L)\n",
        "view(atoms, viewer='ngl')"
      ],
      "metadata": {
        "colab": {
          "base_uri": "https://localhost:8080/",
          "height": 517,
          "referenced_widgets": [
            "ac7368ea01eb499a99d9b91e3019674e",
            "7c034335524b41ab8df3a1eda34d3e85",
            "1ec923eb40c2459e85e227df7e0fdb75",
            "7c005590b6c64d27a98ec3fee5a268cd",
            "4d36bbbed76b47069ab0b7da74cf9819",
            "46262feb5e6d4d44a011b28f4a7e9b62",
            "c6d3ceaea4314d74845ac41bb78a31d9",
            "22613d5746a248e381bdb4f2b6ed8bc3",
            "be9849b0c6de405c8ec5ea1eeb6bf452",
            "9b7322281f7d4bdea0ddc1a83ee053b1",
            "9fa12cda73ff49079bcb23a7cf47a67f",
            "a57dbd53d3f64259ae25a37ae5d3e91b",
            "5589a5aa1af246e795096a8a2158f7e1",
            "363d6ae9928b453eb334462bc71d9485",
            "79bb335edd65453aa0041f529ad6c6a1",
            "9368bd862b2448f3947adee4968314b5",
            "724dadf0696f4073902b99e5d0690577",
            "a284e71b02e4429d8ea2b2e1a350858e",
            "6350ac3a30b14f57b4bf3a1345fcda02",
            "40488a625d054754a525f7c01cf21e9b",
            "41fab1897454445a8bcbd62b719b3df1",
            "c27d79bba7e8434b8bdb53324267576d",
            "8d7ac1249307457f814eec3137bbb40d",
            "3e733466279f4c4f92aca488b71134f7",
            "08e62a1ae2bc4adeb8ce613e27dd7870",
            "ab811808a21a450e9c19bcde088ba427"
          ]
        },
        "id": "y6q57BPV-bSc",
        "outputId": "221b1f83-2740-48bc-8868-4ae127fa895a"
      },
      "execution_count": null,
      "outputs": [
        {
          "output_type": "display_data",
          "data": {
            "text/plain": [
              "HBox(children=(NGLWidget(), VBox(children=(Dropdown(description='Show', options=('All', 'C', 'O', 'N'), value=…"
            ],
            "application/vnd.jupyter.widget-view+json": {
              "version_major": 2,
              "version_minor": 0,
              "model_id": "ac7368ea01eb499a99d9b91e3019674e"
            }
          },
          "metadata": {
            "application/vnd.jupyter.widget-view+json": {
              "colab": {
                "custom_widget_manager": {
                  "url": "https://ssl.gstatic.com/colaboratory-static/widgets/colab-cdn-widget-manager/b3e629b1971e1542/manager.min.js"
                }
              }
            }
          }
        }
      ]
    },
    {
      "cell_type": "markdown",
      "source": [
        "we fix the position of the first atom to be at the origin $(0,0,0)$"
      ],
      "metadata": {
        "id": "qvgwodTadzQR"
      }
    },
    {
      "cell_type": "code",
      "source": [
        "train_data -= train_data[:, None, 0]"
      ],
      "metadata": {
        "id": "zNAUREOHdWdD"
      },
      "execution_count": null,
      "outputs": []
    },
    {
      "cell_type": "code",
      "source": [
        "train_data[0]"
      ],
      "metadata": {
        "colab": {
          "base_uri": "https://localhost:8080/"
        },
        "id": "-r-XDBUodu-s",
        "outputId": "7b68ba1e-d56a-4e02-9fc5-f7ff2e1ca24f"
      },
      "execution_count": null,
      "outputs": [
        {
          "output_type": "execute_result",
          "data": {
            "text/plain": [
              "Array([[ 0.        ,  0.        ,  0.        ],\n",
              "       [-0.10866126, -0.08496571, -0.05294933],\n",
              "       [-0.23061313, -0.05237889, -0.03257903],\n",
              "       [-0.06925163, -0.17692566, -0.14216499],\n",
              "       [-0.16980399, -0.26459217, -0.21098728],\n",
              "       [-0.11107272, -0.31215835, -0.34160462],\n",
              "       [-0.22918014, -0.3769319 , -0.12853031],\n",
              "       [-0.1992424 , -0.4020753 , -0.00867443],\n",
              "       [-0.3358656 , -0.4447801 , -0.18495616],\n",
              "       [-0.4171049 , -0.5499315 , -0.11980057]], dtype=float32)"
            ]
          },
          "metadata": {},
          "execution_count": 136
        }
      ]
    },
    {
      "cell_type": "markdown",
      "source": [
        "# Model"
      ],
      "metadata": {
        "id": "rngmnfgqD0rL"
      }
    },
    {
      "cell_type": "code",
      "source": [
        "def make_transformer(key, n, dim, num_layers, num_heads, key_size):\n",
        "   \n",
        "    # read this to understand why we need these lines https://sjmielke.com/jax-purify.htm\n",
        "    @hk.without_apply_rng\n",
        "    @hk.transform\n",
        "    def network(x): \n",
        "        assert x.ndim == 2  # (n, dim)\n",
        "        n = x.shape[0]\n",
        "        \n",
        "        model_size = 2*dim # since we will predict mean and variance of atom position\n",
        "        mask = jnp.tril(np.ones((1, n, n))) # mask for the attention matrix \n",
        "\n",
        "        initializer = hk.initializers.TruncatedNormal(0.01)\n",
        "        h = hk.Linear(model_size, w_init=initializer)(x)\n",
        "        for _ in range(num_layers):\n",
        "            # https://github.com/deepmind/dm-haiku/blob/main/haiku/_src/attention.py \n",
        "            attn_block = hk.MultiHeadAttention(num_heads=num_heads, \n",
        "                                               key_size=key_size, \n",
        "                                               model_size=model_size,\n",
        "                                               w_init = initializer\n",
        "                                                )   \n",
        "            h = attn_block(h, h, h, mask) + h\n",
        "\n",
        "            dense_block = hk.Sequential([hk.Linear(4 * model_size, w_init=initializer),\n",
        "                                         jax.nn.gelu,\n",
        "                                         hk.Linear(model_size, w_init=initializer)]\n",
        "                                         )\n",
        "            h = dense_block(h) + h \n",
        "        \n",
        "        mu, sigma = jnp.split(h, 2, axis=-1)\n",
        "        sigma = jax.nn.softplus(sigma) # to ensure positivity\n",
        "        h = jnp.concatenate([mu, sigma], axis=-1) \n",
        "        return h    \n",
        "    \n",
        "    x = jax.random.normal(key, (natoms, dim))\n",
        "    params = network.init(key, x)\n",
        "    return params, network.apply"
      ],
      "metadata": {
        "id": "8IZBIDVSDz0m"
      },
      "execution_count": null,
      "outputs": []
    },
    {
      "cell_type": "code",
      "source": [
        "num_layers = 4\n",
        "num_heads = 8\n",
        "key_size = 16\n",
        "\n",
        "key = jax.random.PRNGKey(42)\n",
        "params, model = make_transformer(key, natoms, dim, num_layers, num_heads, key_size)"
      ],
      "metadata": {
        "id": "lZaB9vV4HGcA"
      },
      "execution_count": null,
      "outputs": []
    },
    {
      "cell_type": "code",
      "source": [
        "from jax.flatten_util import ravel_pytree\n",
        "ravel_pytree(params)[0].size # number of parameters in the model"
      ],
      "metadata": {
        "colab": {
          "base_uri": "https://localhost:8080/"
        },
        "id": "92UIWBWMIr36",
        "outputId": "d94e7e04-2e5a-4d4a-fa97-fddaa188c977"
      },
      "execution_count": null,
      "outputs": [
        {
          "output_type": "execute_result",
          "data": {
            "text/plain": [
              "15144"
            ]
          },
          "metadata": {},
          "execution_count": 139
        }
      ]
    },
    {
      "cell_type": "code",
      "source": [
        "model(params, train_data[0]).shape"
      ],
      "metadata": {
        "colab": {
          "base_uri": "https://localhost:8080/"
        },
        "id": "rurkk6ffSIC9",
        "outputId": "746c49a4-6072-423b-a71e-292a5ae23a7b"
      },
      "execution_count": null,
      "outputs": [
        {
          "output_type": "execute_result",
          "data": {
            "text/plain": [
              "(10, 6)"
            ]
          },
          "metadata": {},
          "execution_count": 140
        }
      ]
    },
    {
      "cell_type": "markdown",
      "source": [
        "We can check that the model is indeed autoregressive"
      ],
      "metadata": {
        "id": "1Fc11DbJcv7K"
      }
    },
    {
      "cell_type": "code",
      "source": [
        "def test_fn(x):\n",
        "    outputs = model(params, x)\n",
        "    return (outputs).sum(axis=-1)\n",
        "jac = jax.jacfwd(test_fn)(train_data[0])\n",
        "jac.shape"
      ],
      "metadata": {
        "colab": {
          "base_uri": "https://localhost:8080/"
        },
        "id": "7RuL_Psfcuxm",
        "outputId": "92afe4f0-0c9c-4761-8337-44e0d7f30a88"
      },
      "execution_count": null,
      "outputs": [
        {
          "output_type": "execute_result",
          "data": {
            "text/plain": [
              "(10, 10, 3)"
            ]
          },
          "metadata": {},
          "execution_count": 141
        }
      ]
    },
    {
      "cell_type": "code",
      "source": [
        "jac = jnp.linalg.norm(jac, axis=-1)\n",
        "(jac != 0.).astype(int)"
      ],
      "metadata": {
        "colab": {
          "base_uri": "https://localhost:8080/"
        },
        "id": "D4_QdeaYc6lu",
        "outputId": "ae32bc42-14cd-4834-8875-2068975fa9b7"
      },
      "execution_count": null,
      "outputs": [
        {
          "output_type": "execute_result",
          "data": {
            "text/plain": [
              "Array([[1, 0, 0, 0, 0, 0, 0, 0, 0, 0],\n",
              "       [1, 1, 0, 0, 0, 0, 0, 0, 0, 0],\n",
              "       [1, 1, 1, 0, 0, 0, 0, 0, 0, 0],\n",
              "       [1, 1, 1, 1, 0, 0, 0, 0, 0, 0],\n",
              "       [1, 1, 1, 1, 1, 0, 0, 0, 0, 0],\n",
              "       [1, 1, 1, 1, 1, 1, 0, 0, 0, 0],\n",
              "       [1, 1, 1, 1, 1, 1, 1, 0, 0, 0],\n",
              "       [1, 1, 1, 1, 1, 1, 1, 1, 0, 0],\n",
              "       [1, 1, 1, 1, 1, 1, 1, 1, 1, 0],\n",
              "       [1, 1, 1, 1, 1, 1, 1, 1, 1, 1]], dtype=int32)"
            ]
          },
          "metadata": {},
          "execution_count": 142
        }
      ]
    },
    {
      "cell_type": "markdown",
      "source": [
        "# Loss"
      ],
      "metadata": {
        "id": "YxVRjdIDJiyV"
      }
    },
    {
      "cell_type": "markdown",
      "source": [
        "For maximum likelihood estimation we minimize $$\\mathcal{L} = \\mathop{\\mathbb{E}}_{x\\sim \\mathrm{data}} \\left[ \\ln p(x)\\right] $$"
      ],
      "metadata": {
        "id": "6A_HSdKFO_VR"
      }
    },
    {
      "cell_type": "code",
      "source": [
        "def make_mle_loss(model):\n",
        "\n",
        "    @partial(jax.vmap, in_axes=(None, 0), out_axes=0)\n",
        "    def logp_fn(params, x):\n",
        "        outputs = model(params, x)\n",
        "        mu, sigma = jnp.split(outputs[:-1, :], 2, axis=-1) # until the last one \n",
        "        return jax.scipy.stats.norm.logpdf(x[1:, :], loc=mu, scale=sigma) # [1:] because we fix the first atom to be at 000\n",
        "\n",
        "    def loss_fn(params, x):\n",
        "        logp = logp_fn(params, x)\n",
        "        return -jnp.mean(logp)\n",
        "        \n",
        "    return loss_fn\n",
        "\n",
        "loss_fn = make_mle_loss(model)"
      ],
      "metadata": {
        "id": "CxcoF6LrJfD1"
      },
      "execution_count": null,
      "outputs": []
    },
    {
      "cell_type": "code",
      "source": [
        "loss_fn(params, train_data[:5])"
      ],
      "metadata": {
        "colab": {
          "base_uri": "https://localhost:8080/"
        },
        "id": "wdra5JSfVruD",
        "outputId": "2d5810c5-b674-49c8-da17-5df1d6c133dc"
      },
      "execution_count": null,
      "outputs": [
        {
          "output_type": "execute_result",
          "data": {
            "text/plain": [
              "Array(0.61155874, dtype=float32)"
            ]
          },
          "metadata": {},
          "execution_count": 144
        }
      ]
    },
    {
      "cell_type": "markdown",
      "source": [
        "# Optimization"
      ],
      "metadata": {
        "id": "zg6gTn5JPVAk"
      }
    },
    {
      "cell_type": "code",
      "source": [
        "optimizer = optax.adam(1e-3)\n",
        "opt_state = optimizer.init(params)\n",
        "\n",
        "@jax.jit\n",
        "def update(params, opt_state, data):\n",
        "    value, grad = jax.value_and_grad(loss_fn)(params, data)\n",
        "    updates, opt_state = optimizer.update(grad, opt_state)\n",
        "    params = optax.apply_updates(params, updates)\n",
        "    return params, opt_state, value\n"
      ],
      "metadata": {
        "id": "IsCpn-SYO_9P"
      },
      "execution_count": null,
      "outputs": []
    },
    {
      "cell_type": "code",
      "source": [
        "train_data = jax.random.permutation(key, train_data)\n",
        "train_data = train_data[:10000] # to save time we use only 10000 of them to train\n",
        "\n",
        "batchsize = 100\n",
        "assert len(train_data)%batchsize==0\n",
        "\n",
        "for epoch in range(10):\n",
        "    key, subkey = jax.random.split(key)\n",
        "    train_data = jax.random.permutation(subkey, train_data)\n",
        "\n",
        "    total_loss = 0.0 \n",
        "    counter = 0 \n",
        "    for batch_index in range(0, len(train_data), batchsize):\n",
        "        data = train_data[batch_index:batch_index+batchsize]\n",
        "        key, subkey = jax.random.split(key)\n",
        "        params, opt_state, loss = update(params, opt_state, data)\n",
        "        total_loss += loss \n",
        "        counter += 1\n",
        "\n",
        "    print(epoch, total_loss/counter) \n"
      ],
      "metadata": {
        "colab": {
          "base_uri": "https://localhost:8080/"
        },
        "id": "7hCh6-UtQK9l",
        "outputId": "0da85db2-af9d-45d5-c9d3-8f934da30a19"
      },
      "execution_count": null,
      "outputs": [
        {
          "output_type": "stream",
          "name": "stdout",
          "text": [
            "0 -1.2442603\n",
            "1 -1.2600908\n",
            "2 -1.277534\n",
            "3 -1.298891\n",
            "4 -1.3170371\n",
            "5 -1.3422662\n",
            "6 -1.3507986\n",
            "7 -1.3897886\n",
            "8 -1.4162788\n",
            "9 -1.4675642\n"
          ]
        }
      ]
    },
    {
      "cell_type": "markdown",
      "source": [
        "# Sample"
      ],
      "metadata": {
        "id": "wiBzV7RvXDnQ"
      }
    },
    {
      "cell_type": "markdown",
      "source": [
        "Now, we can try to sample from the trained model. First, remember the model predicts mu and sigma of Gaussian distribution."
      ],
      "metadata": {
        "id": "idpw37WGia-R"
      }
    },
    {
      "cell_type": "code",
      "source": [
        "@jax.vmap\n",
        "def inference(x): # here x can be data with various length\n",
        "    outputs = model(params, x)\n",
        "    mu, sigma = jnp.split(outputs[-1, :], 2, axis=-1) # only use the last one\n",
        "    return mu, sigma"
      ],
      "metadata": {
        "id": "8MBxYD_bf2zf"
      },
      "execution_count": null,
      "outputs": []
    },
    {
      "cell_type": "markdown",
      "source": [
        "We sample in an autoregressive fashion: starting from atom 0 at the origin, then atom 1, then atom 2 ... "
      ],
      "metadata": {
        "id": "j-tPRyuEirwW"
      }
    },
    {
      "cell_type": "code",
      "source": [
        "samples = jnp.zeros((batchsize, natoms, dim))\n",
        "for i in range(1, natoms):\n",
        "    mu, sigma = inference(samples[:, :i]) \n",
        "    key, subkey = jax.random.split(key)\n",
        "    x = jax.random.normal(subkey, (batchsize, dim)) * sigma + mu\n",
        "    samples = samples.at[:, i].set( x ) "
      ],
      "metadata": {
        "id": "SkXCQEdpXsig"
      },
      "execution_count": null,
      "outputs": []
    },
    {
      "cell_type": "code",
      "source": [
        "samples[0]"
      ],
      "metadata": {
        "colab": {
          "base_uri": "https://localhost:8080/"
        },
        "id": "TG5USfQ_i5uf",
        "outputId": "01c3a483-a752-422c-8d2f-f2e2cf32db39"
      },
      "execution_count": null,
      "outputs": [
        {
          "output_type": "execute_result",
          "data": {
            "text/plain": [
              "Array([[ 0.        ,  0.        ,  0.        ],\n",
              "       [-0.36303204, -0.10760424, -0.6692486 ],\n",
              "       [ 0.13592339, -0.04337658,  1.0170809 ],\n",
              "       [-0.3794167 , -0.7640658 , -0.43109998],\n",
              "       [-0.17063145, -0.03453469, -0.3230593 ],\n",
              "       [-0.3525418 , -1.2325457 , -1.102741  ],\n",
              "       [ 0.2501487 , -1.2095321 ,  0.6943912 ],\n",
              "       [-0.02452633,  0.49321824,  0.26617572],\n",
              "       [ 0.12774971,  0.5856017 ,  0.76268756],\n",
              "       [ 0.4654139 , -0.54912704,  0.2514172 ]], dtype=float32)"
            ]
          },
          "metadata": {},
          "execution_count": 154
        }
      ]
    },
    {
      "cell_type": "markdown",
      "source": [
        "Have a look at generated sample"
      ],
      "metadata": {
        "id": "BTZ72AGHi-ND"
      }
    },
    {
      "cell_type": "code",
      "source": [
        "atoms = Atoms('CCONCCCONC', positions=samples[0]*L)\n",
        "view(atoms, viewer='ngl')"
      ],
      "metadata": {
        "colab": {
          "base_uri": "https://localhost:8080/",
          "height": 517,
          "referenced_widgets": [
            "095e4588b5ca46e2a53a8e65d89ad3f2",
            "ab03bc8e5bc84d659660fd090d6a74f4",
            "46393020476447329e1a702df4533fd9",
            "b945c0baac294c288b105932467513ad",
            "ea439418193b4d9c8b36adf73ef91dc1",
            "ee9a8b094809496798c1077a39bfccb0",
            "f7f53b4a38424ea9be0eb4ba91e9d684",
            "b47ab5c021664da598a1b321cec79e4f",
            "d0cf641f96a64cd19215cefdef28d9d1",
            "5560750ecb4b4170bde4a90b9d9dbad7",
            "556f7ed918874b21a0e923e7ba914e1d",
            "82455c4d6a6149d9a9eaeb1ed58b0f7a",
            "0ef79640d6e24254908221264b4d3bde",
            "483b97e2c00142a993b76ac98a183437",
            "e1d630797f54444d909109422cdbfab7",
            "4ab13b3de7aa49d995afd6baa22085df",
            "bc5ba340f9814e5ea7788c60e4c8fe5c",
            "db803cd19fd64705a8ae1343587d78df",
            "52bcd2dba64645d7b792352aa3f753af",
            "4fff3a07279d4f619cba2e95cc24c888",
            "fc7ed506efea46b9944dce63a19276f8",
            "85efea4550c54d418bf709fb54881a1c",
            "0d1fa76f492445889f0d9fbaa914801d",
            "b77ce8e300b344509bf102914aadb1b0",
            "a5b319b2e08d47b28761948c98d1b966",
            "0b0b22de43f24bb5b2c44619b3b1b296"
          ]
        },
        "id": "yLg4deziaZ0c",
        "outputId": "501e5c80-8786-4fb7-c8cf-4510be7bfc1b"
      },
      "execution_count": null,
      "outputs": [
        {
          "output_type": "display_data",
          "data": {
            "text/plain": [
              "HBox(children=(NGLWidget(), VBox(children=(Dropdown(description='Show', options=('All', 'C', 'O', 'N'), value=…"
            ],
            "application/vnd.jupyter.widget-view+json": {
              "version_major": 2,
              "version_minor": 0,
              "model_id": "ee9a8b094809496798c1077a39bfccb0"
            }
          },
          "metadata": {
            "application/vnd.jupyter.widget-view+json": {
              "colab": {
                "custom_widget_manager": {
                  "url": "https://ssl.gstatic.com/colaboratory-static/widgets/colab-cdn-widget-manager/b3e629b1971e1542/manager.min.js"
                }
              }
            }
          }
        }
      ]
    },
    {
      "cell_type": "code",
      "source": [],
      "metadata": {
        "id": "jgP07fjp4WOY"
      },
      "execution_count": null,
      "outputs": []
    }
  ]
}