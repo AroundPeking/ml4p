{
  "cells": [
    {
      "cell_type": "markdown",
      "source": [
        "<a href=\"https://colab.research.google.com/github/wangleiphy/ml4p/blob/main/projects/quantum_dot.ipynb\" target=\"_parent\"><img src=\"https://colab.research.google.com/assets/colab-badge.svg\" alt=\"Open In Colab\"/></a>"
      ],
      "metadata": {
        "id": "MMb1nervhaER"
      }
    },
    {
      "cell_type": "markdown",
      "source": [
        "Authors: [Yangfan Li](mailto:liyangfan@iphy.ac.cn) 、 [Lu Zhao](mailto:zhaolu@iphy.ac.cn) and [Lei Wang](mailto:wanglei@iphy.ac.cn), Insititute of Physics, Chinese Academy of Sciences.\n",
        "\n",
        "We will use [Jax](https://jax.readthedocs.io/en/latest/) for this tutorial. [Why Jax?](https://www.assemblyai.com/blog/why-you-should-or-shouldnt-be-using-jax-in-2022/)"
      ],
      "metadata": {
        "id": "Mjpnk1lsVgGD"
      }
    },
    {
      "cell_type": "code",
      "source": [
        "# some necessary packages\n",
        "!pip install -q dm-haiku  # neural network library\n",
        "!pip install -q optax   # optimization library"
      ],
      "metadata": {
        "id": "gZQZlUcWVbX1",
        "colab": {
          "base_uri": "https://localhost:8080/"
        },
        "outputId": "01254a09-3a1d-40ea-8b0e-6f9538b7fb45"
      },
      "execution_count": null,
      "outputs": [
        {
          "output_type": "stream",
          "name": "stdout",
          "text": [
            "\u001b[2K     \u001b[90m━━━━━━━━━━━━━━━━━━━━━━━━━━━━━━━━━━━━━━━\u001b[0m \u001b[32m352.1/352.1 KB\u001b[0m \u001b[31m5.9 MB/s\u001b[0m eta \u001b[36m0:00:00\u001b[0m\n",
            "\u001b[2K     \u001b[90m━━━━━━━━━━━━━━━━━━━━━━━━━━━━━━━━━━━━━━━\u001b[0m \u001b[32m154.9/154.9 KB\u001b[0m \u001b[31m6.8 MB/s\u001b[0m eta \u001b[36m0:00:00\u001b[0m\n",
            "\u001b[2K     \u001b[90m━━━━━━━━━━━━━━━━━━━━━━━━━━━━━━━━━━━━━━━━\u001b[0m \u001b[32m87.9/87.9 KB\u001b[0m \u001b[31m5.6 MB/s\u001b[0m eta \u001b[36m0:00:00\u001b[0m\n",
            "\u001b[?25h"
          ]
        }
      ]
    },
    {
      "cell_type": "code",
      "execution_count": null,
      "metadata": {
        "id": "HfzgwjwSaowU"
      },
      "outputs": [],
      "source": [
        "import jax\n",
        "jax.config.update(\"jax_enable_x64\", True)\n",
        "import jax.numpy as jnp\n",
        "import numpy as np\n",
        "import haiku as hk\n",
        "import optax\n",
        "import matplotlib.pyplot as plt \n",
        "from IPython import display"
      ]
    },
    {
      "cell_type": "code",
      "execution_count": null,
      "metadata": {
        "colab": {
          "base_uri": "https://localhost:8080/"
        },
        "id": "3r6s_qc8aowY",
        "outputId": "3f310078-cae6-470c-cc79-f952da418828"
      },
      "outputs": [
        {
          "output_type": "stream",
          "name": "stdout",
          "text": [
            "Wed Mar 15 08:42:32 2023       \n",
            "+-----------------------------------------------------------------------------+\n",
            "| NVIDIA-SMI 525.85.12    Driver Version: 525.85.12    CUDA Version: 12.0     |\n",
            "|-------------------------------+----------------------+----------------------+\n",
            "| GPU  Name        Persistence-M| Bus-Id        Disp.A | Volatile Uncorr. ECC |\n",
            "| Fan  Temp  Perf  Pwr:Usage/Cap|         Memory-Usage | GPU-Util  Compute M. |\n",
            "|                               |                      |               MIG M. |\n",
            "|===============================+======================+======================|\n",
            "|   0  Tesla T4            Off  | 00000000:00:04.0 Off |                    0 |\n",
            "| N/A   53C    P0    28W /  70W |      0MiB / 15360MiB |      0%      Default |\n",
            "|                               |                      |                  N/A |\n",
            "+-------------------------------+----------------------+----------------------+\n",
            "                                                                               \n",
            "+-----------------------------------------------------------------------------+\n",
            "| Processes:                                                                  |\n",
            "|  GPU   GI   CI        PID   Type   Process name                  GPU Memory |\n",
            "|        ID   ID                                                   Usage      |\n",
            "|=============================================================================|\n",
            "|  No running processes found                                                 |\n",
            "+-----------------------------------------------------------------------------+\n"
          ]
        },
        {
          "output_type": "execute_result",
          "data": {
            "text/plain": [
              "[StreamExecutorGpuDevice(id=0, process_index=0, slice_index=0)]"
            ]
          },
          "metadata": {},
          "execution_count": 3
        }
      ],
      "source": [
        "!nvidia-smi\n",
        "jax.devices()"
      ]
    },
    {
      "cell_type": "markdown",
      "metadata": {
        "id": "XOP-tgCDWGhp"
      },
      "source": [
        "## Hamiltonian of classical Coulomb gas\n",
        "\n",
        "We'd like to study thermodynamic property of the classical Coulomb gas, whose Hamiltonian reads\n",
        "\n",
        "$$H= \\sum_{i<j} \\frac{1}{|\\boldsymbol{x}_i - \\boldsymbol{x}_j|} + \\sum_i  \\boldsymbol{x}_i^2 . $$\n",
        "The second term is a harmonic trapping potential. It makes our story easier (no need to consider periodic bondary condition or Ewald sum for long range interaction.)\n",
        "\n",
        "The way to go is to minimize the variationial free energy with respect to a variational probability density $p(\\boldsymbol{x})$\n",
        "\n",
        "$$\\mathcal{L} = \\mathbb{E}_{\\boldsymbol{x} \\sim p(\\boldsymbol{x})} \\left [\\frac{1}{\\beta}\\ln p(\\boldsymbol{x}) +  H(\\boldsymbol{x}) \\right] \\ge -\\frac{1}{\\beta} \\ln Z, $$ \n",
        "where $Z = \\int d \\boldsymbol{x} e^{-\\beta H}$ and $\\beta$ is the inverse temperature. The equality holds when $p(\\boldsymbol{x}) = e^{-\\beta H}/Z$, i.e., we achieve the exact solution. \n",
        "\n",
        "First thing first, here is the energy function"
      ]
    },
    {
      "cell_type": "code",
      "execution_count": null,
      "metadata": {
        "id": "k_L0AGpiaowe"
      },
      "outputs": [],
      "source": [
        "def energy_fn(x, n, dim):\n",
        "    i, j = np.triu_indices(n, k=1)\n",
        "    r_ee = jnp.linalg.norm((jnp.reshape(x, (n, 1, dim)) - jnp.reshape(x, (1, n, dim)))[i,j], axis=-1)\n",
        "    v_ee = jnp.sum(1/r_ee)\n",
        "    return jnp.sum(x**2) + v_ee"
      ]
    },
    {
      "cell_type": "markdown",
      "metadata": {
        "id": "obkF0f8_YQLk"
      },
      "source": [
        "## Probablistic generative model\n",
        "\n",
        "The probablistic model we are going to use is the flow model which does change of variable. \n",
        "\n",
        "$$\n",
        "p(x) = p(z) \\left|\\frac{\\partial z }{\\partial x}\\right|, \n",
        "$$\n",
        "which means $$\n",
        "\\ln p(x) = \\ln p(z) - \\ln \\left|\\frac{\\partial x  }{\\partial z}\\right|\n",
        "$$\n",
        "\n"
      ]
    },
    {
      "cell_type": "code",
      "execution_count": null,
      "metadata": {
        "id": "YlfLFKjXaowh"
      },
      "outputs": [],
      "source": [
        "def make_network(key, n, dim, hidden_sizes):\n",
        "\n",
        "    '''\n",
        "    z <-> x mapping\n",
        "    '''\n",
        "    @hk.without_apply_rng\n",
        "    @hk.transform\n",
        "    def network(z):\n",
        "        return hk.nets.MLP(hidden_sizes + [n*dim], \n",
        "                           activation=jax.nn.softplus, \n",
        "                           w_init=hk.initializers.TruncatedNormal(0.1), \n",
        "                           b_init=hk.initializers.TruncatedNormal(1.0),\n",
        "                           )(z)\n",
        "\n",
        "    z = jax.random.normal(key, (n*dim, ))\n",
        "    params = network.init(key, z)\n",
        "    return params, network.apply\n",
        "\n",
        "def make_flow(network):\n",
        "    def flow(params, z):\n",
        "        x = network(params, z)\n",
        "        jac = jax.jacfwd(network,argnums=1)(params, z)\n",
        "        _, logabsdet = jnp.linalg.slogdet(jac)\n",
        "        return x, jnp.sum(jax.scipy.stats.norm.logpdf(z)) - logabsdet\n",
        "\n",
        "    return flow"
      ]
    },
    {
      "cell_type": "markdown",
      "metadata": {
        "id": "I8lBKsQFY9Sd"
      },
      "source": [
        "## Loss function\n",
        "\n",
        "Gradient of the objective function is\n",
        "\n",
        "$$\\nabla \\mathcal{L} = \\mathbb{E}_{\\boldsymbol{z} \\sim \\mathcal{N}(\\boldsymbol{z})} \\left[   \\nabla f(g( \\boldsymbol{z}) )\\right],$$ \n",
        "where $f (\\boldsymbol{x}) =\\frac{1}{\\beta}\\ln p(\\boldsymbol{x}) +  H(\\boldsymbol{x})$. This is known as the Reparametrization gradient estimator. See https://arxiv.org/abs/1906.10652 for more details. \n"
      ]
    },
    {
      "cell_type": "code",
      "execution_count": null,
      "metadata": {
        "id": "KwBGTFYhaowm"
      },
      "outputs": [],
      "source": [
        "def make_loss(batch_flow, n, dim, beta):\n",
        "\n",
        "    batch_energy = jax.vmap(energy_fn, (0, None, None), 0)\n",
        "\n",
        "    def loss(params, z):\n",
        "        x, logp = batch_flow(params, z)\n",
        "        energy = batch_energy(x, n, dim)\n",
        "        f = logp/beta + energy\n",
        "        return jnp.mean(f), (jnp.std(f)/jnp.sqrt(x.shape[0]), x)\n",
        "    return loss"
      ]
    },
    {
      "cell_type": "markdown",
      "metadata": {
        "id": "jhRJt8HOaowo"
      },
      "source": [
        "### Initializing\n",
        "\n",
        "Now we are ready to initialize the network:"
      ]
    },
    {
      "cell_type": "code",
      "execution_count": null,
      "metadata": {
        "id": "WzX61oW4aowp"
      },
      "outputs": [],
      "source": [
        "batchsize = 8192\n",
        "n = 20\n",
        "dim = 2 \n",
        "beta = 10.0\n",
        "\n",
        "hidden_sizes = [64, 64]\n",
        "key = jax.random.PRNGKey(42)\n",
        "\n",
        "params, network = make_network(key, n, dim, hidden_sizes)\n",
        "flow = make_flow(network)\n",
        "batch_flow = jax.vmap(flow, (None, 0), (0, 0))\n",
        "loss = make_loss(batch_flow, n, dim, beta)\n",
        "value_and_grad = jax.value_and_grad(loss, has_aux=True)"
      ]
    },
    {
      "cell_type": "markdown",
      "metadata": {
        "id": "1wjQa6IRSQQA"
      },
      "source": [
        "Let's have a look at the model.\n",
        "\n",
        "This is the number of parameters in the neural network:"
      ]
    },
    {
      "cell_type": "code",
      "source": [
        "from jax.flatten_util import ravel_pytree\n",
        "ravel_pytree(params)[0].size"
      ],
      "metadata": {
        "colab": {
          "base_uri": "https://localhost:8080/"
        },
        "id": "Kh-P4jb_LiWY",
        "outputId": "c420e763-ab20-4094-dfdc-85d7298f6919"
      },
      "execution_count": null,
      "outputs": [
        {
          "output_type": "execute_result",
          "data": {
            "text/plain": [
              "9384"
            ]
          },
          "metadata": {},
          "execution_count": 8
        }
      ]
    },
    {
      "cell_type": "markdown",
      "source": [
        "X is the output of the neural network. The shape of x should be equal to z. The shape of logp should be equal to batchsize:\n"
      ],
      "metadata": {
        "id": "ukPjZiHoYtOL"
      }
    },
    {
      "cell_type": "code",
      "execution_count": null,
      "metadata": {
        "colab": {
          "base_uri": "https://localhost:8080/"
        },
        "id": "mP6Wbnm8RFCa",
        "outputId": "44c7225d-1bd9-408b-f9c1-b1ac1b70a41d"
      },
      "outputs": [
        {
          "output_type": "execute_result",
          "data": {
            "text/plain": [
              "((8192, 40), (8192,))"
            ]
          },
          "metadata": {},
          "execution_count": 9
        }
      ],
      "source": [
        "z = jax.random.normal(key, (batchsize, n*dim))\n",
        "x, logp = batch_flow(params, z)\n",
        "x.shape, logp.shape"
      ]
    },
    {
      "cell_type": "markdown",
      "source": [
        "We use optax as optimizer to train this neural network."
      ],
      "metadata": {
        "id": "EdktjH_RW_XC"
      }
    },
    {
      "cell_type": "code",
      "execution_count": null,
      "metadata": {
        "id": "qdwBkBPiaowp"
      },
      "outputs": [],
      "source": [
        "optimizer = optax.adam(1e-3)\n",
        "opt_state = optimizer.init(params)"
      ]
    },
    {
      "cell_type": "markdown",
      "metadata": {
        "id": "xaqJltIXsfpP"
      },
      "source": [
        "## Optimization\n",
        "\n",
        "Here is the training loop. During training we monitor the density and loss histroy. "
      ]
    },
    {
      "cell_type": "code",
      "execution_count": null,
      "metadata": {
        "colab": {
          "base_uri": "https://localhost:8080/",
          "height": 406
        },
        "id": "JBX1-IT2aowq",
        "outputId": "4de6bbf0-527d-43ab-b295-e4859f900e13"
      },
      "outputs": [
        {
          "output_type": "display_data",
          "data": {
            "text/plain": [
              "<Figure size 864x432 with 2 Axes>"
            ],
            "image/png": "[encoded data removed]"
          },
          "metadata": {
            "needs_background": "light"
          }
        },
        {
          "output_type": "stream",
          "name": "stdout",
          "text": [
            "[Array(162.76849798, dtype=float64), Array(0.00367328, dtype=float64)]\n"
          ]
        }
      ],
      "source": [
        "@jax.jit\n",
        "def step(key, params, opt_state):\n",
        "    z = jax.random.normal(key, (batchsize, n*dim)) \n",
        "    value, grad = value_and_grad(params, z)\n",
        "    updates, opt_state = optimizer.update(grad, opt_state)\n",
        "    params = optax.apply_updates(params, updates)\n",
        "    return value, params, opt_state\n",
        "\n",
        "loss_history = []\n",
        "for i in range(500):\n",
        "    key, subkey = jax.random.split(key)\n",
        "    value,  params, opt_state = step(subkey, params, opt_state)\n",
        "    f_mean, (f_err, x) = value\n",
        "    loss_history.append([f_mean, f_err])\n",
        "    print(i, f_mean)\n",
        "\n",
        "    x = jnp.reshape(x, (batchsize*n, dim)) \n",
        "\n",
        "    display.clear_output(wait=True)\n",
        "\n",
        "    fig = plt.figure(figsize=(12, 6))\n",
        "    plt.subplot(1, 2, 1)\n",
        "    H, xedges, yedges = np.histogram2d(x[:, 0], x[:, 1], \n",
        "                                       bins=100, \n",
        "                                       range=((-4, 4), (-4, 4)),\n",
        "                        density=True)\n",
        "    plt.imshow(H, interpolation=\"nearest\", \n",
        "               extent=(xedges[0], xedges[-1], yedges[0], yedges[-1]),\n",
        "               cmap=\"inferno\")\n",
        "\n",
        "    plt.xlim([-4, 4])\n",
        "    plt.ylim([-4, 4])\n",
        "\n",
        "    plt.subplot(1, 2, 2)\n",
        "    y = np.reshape(np.array(loss_history), (-1, 2))\n",
        "    plt.errorbar(np.arange(i+1), y[:, 0], yerr=y[:, 1], marker='o', capsize=8)\n",
        "    plt.xlabel('epochs')\n",
        "    plt.ylabel('variational free energy')\n",
        "    plt.pause(0.01)\n",
        "print(loss_history[-1])"
      ]
    },
    {
      "cell_type": "markdown",
      "source": [
        "Let's look at energy"
      ],
      "metadata": {
        "id": "y9WqPs9rt0ml"
      }
    },
    {
      "cell_type": "code",
      "source": [
        "x = x.reshape(batchsize, n, dim)\n",
        "jax.vmap(energy_fn, (0, None, None), 0)(x, n, dim).mean()"
      ],
      "metadata": {
        "colab": {
          "base_uri": "https://localhost:8080/"
        },
        "id": "AyoodX-btCMs",
        "outputId": "721506a1-ffc8-47b5-ab4e-b5d86852e05f"
      },
      "execution_count": null,
      "outputs": [
        {
          "output_type": "execute_result",
          "data": {
            "text/plain": [
              "Array(160.71267529, dtype=float64)"
            ]
          },
          "metadata": {},
          "execution_count": 12
        }
      ]
    },
    {
      "cell_type": "markdown",
      "metadata": {
        "id": "zV1vKMbaft74"
      },
      "source": [
        "- How does the results connect to the our previous [Monte Carlo calculation](https://github.com/wangleiphy/ml4p/blob/main/materials/2_handson/jax.ipynb) ? \n",
        "- How do you make sure the variational free energy is low enough ? \n",
        "- Could you explain the training dynamics ? What did the network learn in the early and late stage of the training ? \n",
        "\n",
        "A few things to improve from this mininist implementation: \n",
        "* We have not ensured the transformation $z↔x$ is actually invertible. How to ensure that?\n",
        "* It seems the training breaks rotational invariance. But it shouldn't. How to incorporate that into the model design ? \n",
        "\n",
        "* How about the permutation invariance of the probability $p(\\mathcal{P}\\boldsymbol{x}) = p(\\boldsymbol{x})$ ?"
      ]
    }
  ],
  "metadata": {
    "accelerator": "GPU",
    "colab": {
      "provenance": []
    },
    "gpuClass": "standard",
    "kernelspec": {
      "display_name": "Python 3.9.12 ('base')",
      "language": "python",
      "name": "python3"
    },
    "language_info": {
      "codemirror_mode": {
        "name": "ipython",
        "version": 3
      },
      "file_extension": ".py",
      "mimetype": "text/x-python",
      "name": "python",
      "nbconvert_exporter": "python",
      "pygments_lexer": "ipython3",
      "version": "3.9.12"
    },
    "vscode": {
      "interpreter": {
        "hash": "d5fd42cecb696eb755ed519f67a3230c8f3bf4d685bcb5837cf482ce4576aea4"
      }
    }
  },
  "nbformat": 4,
  "nbformat_minor": 0
}